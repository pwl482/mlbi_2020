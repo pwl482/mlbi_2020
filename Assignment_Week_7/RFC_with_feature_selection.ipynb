{
 "cells": [
  {
   "cell_type": "markdown",
   "metadata": {},
   "source": [
    "# ML in Bioinf, Assignment Week 7, Team C"
   ]
  },
  {
   "cell_type": "code",
   "execution_count": 2,
   "metadata": {},
   "outputs": [
    {
     "name": "stdout",
     "output_type": "stream",
     "text": [
      "Populating the interactive namespace from numpy and matplotlib\n",
      "The autoreload extension is already loaded. To reload it, use:\n",
      "  %reload_ext autoreload\n"
     ]
    }
   ],
   "source": [
    "%pylab inline\n",
    "%load_ext autoreload\n",
    "%reload_ext autoreload\n",
    "%autoreload 2\n",
    "%matplotlib inline\n",
    "\n",
    "import pandas as pd\n",
    "import numpy as np\n",
    "from sklearn.model_selection import train_test_split, KFold, cross_val_predict, GridSearchCV\n",
    "from sklearn import preprocessing, metrics\n",
    "from sklearn.ensemble import RandomForestClassifier\n",
    "from sklearn.neighbors import KNeighborsClassifier\n",
    "import matplotlib.pyplot as plt\n",
    "import seaborn as sns\n",
    "from imblearn.under_sampling import RandomUnderSampler\n",
    "from imblearn.over_sampling import RandomOverSampler\n",
    "from imblearn import pipeline\n",
    "from collections import Counter\n",
    "from xml.etree import ElementTree as ET"
   ]
  },
  {
   "cell_type": "markdown",
   "metadata": {},
   "source": [
    "## Load the data matrix file and the annotated labels MINiML file"
   ]
  },
  {
   "cell_type": "code",
   "execution_count": 4,
   "metadata": {},
   "outputs": [],
   "source": [
    "root = ET.parse(\"GSE68086_family.xml\").getroot()\n",
    "ns = {\"MINiML\": \"http://www.ncbi.nlm.nih.gov/geo/info/MINiML\"}"
   ]
  },
  {
   "cell_type": "code",
   "execution_count": 5,
   "metadata": {},
   "outputs": [
    {
     "name": "stdout",
     "output_type": "stream",
     "text": [
      "Example:  MGH-NSCLC-L65-TR523  Type:  Lung\n"
     ]
    }
   ],
   "source": [
    "name_dict = {}\n",
    "for sample in root.findall('MINiML:Sample', ns):\n",
    "    for channel in sample.findall('MINiML:Channel', ns):\n",
    "        name = channel.findall('MINiML:Source', ns)[0].text\n",
    "        if \"HD\" in name or \"Control\" in name:\n",
    "            name_dict[name] = \"HD\"\n",
    "        else:\n",
    "            for characteristic in channel.findall('MINiML:Characteristics', ns):\n",
    "                if characteristic.attrib[\"tag\"] == \"cancer type\":\n",
    "                    name_dict[name] = characteristic.text.strip()\n",
    "print(\"Example: \", name, \" Type: \", name_dict[name])"
   ]
  },
  {
   "cell_type": "code",
   "execution_count": 6,
   "metadata": {},
   "outputs": [
    {
     "data": {
      "text/html": [
       "<div>\n",
       "<style scoped>\n",
       "    .dataframe tbody tr th:only-of-type {\n",
       "        vertical-align: middle;\n",
       "    }\n",
       "\n",
       "    .dataframe tbody tr th {\n",
       "        vertical-align: top;\n",
       "    }\n",
       "\n",
       "    .dataframe thead th {\n",
       "        text-align: right;\n",
       "    }\n",
       "</style>\n",
       "<table border=\"1\" class=\"dataframe\">\n",
       "  <thead>\n",
       "    <tr style=\"text-align: right;\">\n",
       "      <th></th>\n",
       "      <th>ENSG00000000003</th>\n",
       "      <th>ENSG00000000005</th>\n",
       "      <th>ENSG00000000419</th>\n",
       "      <th>ENSG00000000457</th>\n",
       "      <th>ENSG00000000460</th>\n",
       "      <th>ENSG00000000938</th>\n",
       "      <th>ENSG00000000971</th>\n",
       "      <th>ENSG00000001036</th>\n",
       "      <th>ENSG00000001084</th>\n",
       "      <th>ENSG00000001167</th>\n",
       "      <th>...</th>\n",
       "      <th>ENSG00000273481</th>\n",
       "      <th>ENSG00000273483</th>\n",
       "      <th>ENSG00000273484</th>\n",
       "      <th>ENSG00000273485</th>\n",
       "      <th>ENSG00000273486</th>\n",
       "      <th>ENSG00000273487</th>\n",
       "      <th>ENSG00000273488</th>\n",
       "      <th>ENSG00000273489</th>\n",
       "      <th>ENSG00000273492</th>\n",
       "      <th>ENSG00000273493</th>\n",
       "    </tr>\n",
       "  </thead>\n",
       "  <tbody>\n",
       "    <tr>\n",
       "      <th>3-Breast-Her2-ampl</th>\n",
       "      <td>0</td>\n",
       "      <td>0</td>\n",
       "      <td>44</td>\n",
       "      <td>26</td>\n",
       "      <td>81</td>\n",
       "      <td>171</td>\n",
       "      <td>34</td>\n",
       "      <td>83</td>\n",
       "      <td>0</td>\n",
       "      <td>14</td>\n",
       "      <td>...</td>\n",
       "      <td>0</td>\n",
       "      <td>0</td>\n",
       "      <td>0</td>\n",
       "      <td>0</td>\n",
       "      <td>1</td>\n",
       "      <td>0</td>\n",
       "      <td>0</td>\n",
       "      <td>1</td>\n",
       "      <td>4</td>\n",
       "      <td>0</td>\n",
       "    </tr>\n",
       "    <tr>\n",
       "      <th>8-Breast-WT</th>\n",
       "      <td>0</td>\n",
       "      <td>0</td>\n",
       "      <td>14</td>\n",
       "      <td>1</td>\n",
       "      <td>98</td>\n",
       "      <td>99</td>\n",
       "      <td>0</td>\n",
       "      <td>107</td>\n",
       "      <td>0</td>\n",
       "      <td>5</td>\n",
       "      <td>...</td>\n",
       "      <td>0</td>\n",
       "      <td>0</td>\n",
       "      <td>0</td>\n",
       "      <td>0</td>\n",
       "      <td>0</td>\n",
       "      <td>0</td>\n",
       "      <td>0</td>\n",
       "      <td>0</td>\n",
       "      <td>0</td>\n",
       "      <td>0</td>\n",
       "    </tr>\n",
       "    <tr>\n",
       "      <th>10-Breast-Her2-ampl</th>\n",
       "      <td>0</td>\n",
       "      <td>0</td>\n",
       "      <td>16</td>\n",
       "      <td>14</td>\n",
       "      <td>18</td>\n",
       "      <td>25</td>\n",
       "      <td>0</td>\n",
       "      <td>62</td>\n",
       "      <td>4</td>\n",
       "      <td>13</td>\n",
       "      <td>...</td>\n",
       "      <td>0</td>\n",
       "      <td>0</td>\n",
       "      <td>0</td>\n",
       "      <td>0</td>\n",
       "      <td>0</td>\n",
       "      <td>0</td>\n",
       "      <td>0</td>\n",
       "      <td>0</td>\n",
       "      <td>0</td>\n",
       "      <td>0</td>\n",
       "    </tr>\n",
       "    <tr>\n",
       "      <th>Breast-100</th>\n",
       "      <td>0</td>\n",
       "      <td>0</td>\n",
       "      <td>8</td>\n",
       "      <td>0</td>\n",
       "      <td>17</td>\n",
       "      <td>4</td>\n",
       "      <td>0</td>\n",
       "      <td>19</td>\n",
       "      <td>0</td>\n",
       "      <td>0</td>\n",
       "      <td>...</td>\n",
       "      <td>0</td>\n",
       "      <td>0</td>\n",
       "      <td>0</td>\n",
       "      <td>0</td>\n",
       "      <td>0</td>\n",
       "      <td>0</td>\n",
       "      <td>0</td>\n",
       "      <td>0</td>\n",
       "      <td>0</td>\n",
       "      <td>0</td>\n",
       "    </tr>\n",
       "    <tr>\n",
       "      <th>15-Breast-Her2-ampl</th>\n",
       "      <td>17</td>\n",
       "      <td>0</td>\n",
       "      <td>9</td>\n",
       "      <td>4</td>\n",
       "      <td>0</td>\n",
       "      <td>49</td>\n",
       "      <td>0</td>\n",
       "      <td>40</td>\n",
       "      <td>0</td>\n",
       "      <td>10</td>\n",
       "      <td>...</td>\n",
       "      <td>0</td>\n",
       "      <td>0</td>\n",
       "      <td>0</td>\n",
       "      <td>0</td>\n",
       "      <td>0</td>\n",
       "      <td>0</td>\n",
       "      <td>0</td>\n",
       "      <td>0</td>\n",
       "      <td>0</td>\n",
       "      <td>0</td>\n",
       "    </tr>\n",
       "  </tbody>\n",
       "</table>\n",
       "<p>5 rows × 57736 columns</p>\n",
       "</div>"
      ],
      "text/plain": [
       "                     ENSG00000000003  ENSG00000000005  ENSG00000000419  \\\n",
       "3-Breast-Her2-ampl                 0                0               44   \n",
       "8-Breast-WT                        0                0               14   \n",
       "10-Breast-Her2-ampl                0                0               16   \n",
       "Breast-100                         0                0                8   \n",
       "15-Breast-Her2-ampl               17                0                9   \n",
       "\n",
       "                     ENSG00000000457  ENSG00000000460  ENSG00000000938  \\\n",
       "3-Breast-Her2-ampl                26               81              171   \n",
       "8-Breast-WT                        1               98               99   \n",
       "10-Breast-Her2-ampl               14               18               25   \n",
       "Breast-100                         0               17                4   \n",
       "15-Breast-Her2-ampl                4                0               49   \n",
       "\n",
       "                     ENSG00000000971  ENSG00000001036  ENSG00000001084  \\\n",
       "3-Breast-Her2-ampl                34               83                0   \n",
       "8-Breast-WT                        0              107                0   \n",
       "10-Breast-Her2-ampl                0               62                4   \n",
       "Breast-100                         0               19                0   \n",
       "15-Breast-Her2-ampl                0               40                0   \n",
       "\n",
       "                     ENSG00000001167  ...  ENSG00000273481  ENSG00000273483  \\\n",
       "3-Breast-Her2-ampl                14  ...                0                0   \n",
       "8-Breast-WT                        5  ...                0                0   \n",
       "10-Breast-Her2-ampl               13  ...                0                0   \n",
       "Breast-100                         0  ...                0                0   \n",
       "15-Breast-Her2-ampl               10  ...                0                0   \n",
       "\n",
       "                     ENSG00000273484  ENSG00000273485  ENSG00000273486  \\\n",
       "3-Breast-Her2-ampl                 0                0                1   \n",
       "8-Breast-WT                        0                0                0   \n",
       "10-Breast-Her2-ampl                0                0                0   \n",
       "Breast-100                         0                0                0   \n",
       "15-Breast-Her2-ampl                0                0                0   \n",
       "\n",
       "                     ENSG00000273487  ENSG00000273488  ENSG00000273489  \\\n",
       "3-Breast-Her2-ampl                 0                0                1   \n",
       "8-Breast-WT                        0                0                0   \n",
       "10-Breast-Her2-ampl                0                0                0   \n",
       "Breast-100                         0                0                0   \n",
       "15-Breast-Her2-ampl                0                0                0   \n",
       "\n",
       "                     ENSG00000273492  ENSG00000273493  \n",
       "3-Breast-Her2-ampl                 4                0  \n",
       "8-Breast-WT                        0                0  \n",
       "10-Breast-Her2-ampl                0                0  \n",
       "Breast-100                         0                0  \n",
       "15-Breast-Her2-ampl                0                0  \n",
       "\n",
       "[5 rows x 57736 columns]"
      ]
     },
     "execution_count": 6,
     "metadata": {},
     "output_type": "execute_result"
    }
   ],
   "source": [
    "# Pull in training data\n",
    "training_data = pd.read_csv('GSE68086_TEP_data_matrix.txt', sep='\\t',index_col=0).T\n",
    "training_data.head()"
   ]
  },
  {
   "cell_type": "markdown",
   "metadata": {},
   "source": [
    "## Preprocess the cancer labels, adjust for label imbalance and split train/test"
   ]
  },
  {
   "cell_type": "code",
   "execution_count": 7,
   "metadata": {},
   "outputs": [
    {
     "data": {
      "text/plain": [
       "array(['Breast', 'Hepatobiliary', 'CRC', 'GBM', 'HD', 'HC', 'Lung',\n",
       "       'Pancreas'], dtype=object)"
      ]
     },
     "execution_count": 7,
     "metadata": {},
     "output_type": "execute_result"
    }
   ],
   "source": [
    "# Extract cancer labels\n",
    "# training_data[\"cancer\"] = list(training_data.index)\n",
    "# training_data[\"cancer\"] = training_data.cancer.str.extract(r'(Breast|BrCa|CRC|GBM|NSCLC|Lung|Chol|Liver|HBC|Panc|Unknown|HD|Control)')\n",
    "# training_data.loc[training_data.cancer ==\"Breast\",\"cancer\"] = \"BrCa\"\n",
    "# training_data.loc[training_data.cancer==\"Lung\",\"cancer\"] = \"NSCLC\"\n",
    "# training_data.loc[training_data.cancer==\"Chol\",\"cancer\"] = \"HBC\"\n",
    "# training_data.loc[training_data.cancer==\"Liver\",\"cancer\"] = \"HBC\"\n",
    "# training_data.loc[training_data.cancer==\"Panc\",\"cancer\"] = \"PAAD\"\n",
    "# training_data.loc[training_data.cancer==\"Control\",\"cancer\"] = \"HD\"\n",
    "training_data[\"cancer\"] = [name_dict[x] for x in list(training_data.index)]\n",
    "training_data.cancer.unique()"
   ]
  },
  {
   "cell_type": "code",
   "execution_count": 8,
   "metadata": {},
   "outputs": [
    {
     "data": {
      "text/plain": [
       "Lung             60\n",
       "HD               54\n",
       "CRC              42\n",
       "GBM              40\n",
       "Breast           39\n",
       "Pancreas         35\n",
       "Hepatobiliary    14\n",
       "HC                1\n",
       "Name: cancer, dtype: int64"
      ]
     },
     "execution_count": 8,
     "metadata": {},
     "output_type": "execute_result"
    }
   ],
   "source": [
    "training_data['cancer'].value_counts()"
   ]
  },
  {
   "cell_type": "code",
   "execution_count": 9,
   "metadata": {},
   "outputs": [
    {
     "data": {
      "text/plain": [
       "(285, 57737)"
      ]
     },
     "execution_count": 9,
     "metadata": {},
     "output_type": "execute_result"
    }
   ],
   "source": [
    "training_data.shape"
   ]
  },
  {
   "cell_type": "code",
   "execution_count": 10,
   "metadata": {},
   "outputs": [],
   "source": [
    "# Fix random seed for reproducibility\n",
    "seed = 3\n",
    "# np.random.seed(seed)"
   ]
  },
  {
   "cell_type": "code",
   "execution_count": 11,
   "metadata": {},
   "outputs": [],
   "source": [
    "# Exclude Unknown cases\n",
    "# Get labels for training data\n",
    "Y = training_data.cancer != \"HD\"\n",
    "\n",
    "# Get training data as numpy array\n",
    "X = training_data.drop(['cancer'], axis=1).astype(float).values"
   ]
  },
  {
   "cell_type": "code",
   "execution_count": 12,
   "metadata": {},
   "outputs": [],
   "source": [
    "rus = RandomUnderSampler(1,random_state=seed)\n",
    "ros = RandomOverSampler(1,random_state=seed)"
   ]
  },
  {
   "cell_type": "code",
   "execution_count": 13,
   "metadata": {},
   "outputs": [],
   "source": [
    "# Set parameters for the Random Forest Model\n",
    "rfc = RandomForestClassifier(random_state=seed, n_estimators=100)"
   ]
  },
  {
   "cell_type": "code",
   "execution_count": 14,
   "metadata": {},
   "outputs": [],
   "source": [
    "# Set parameters for cross validation\n",
    "kfold = KFold(n_splits=5, shuffle=True, random_state=seed)"
   ]
  },
  {
   "cell_type": "code",
   "execution_count": 15,
   "metadata": {},
   "outputs": [],
   "source": [
    "# Split the data for cross-validation\n",
    "X_train, X_test, Y_train, Y_test = train_test_split(X, Y, test_size=0.3, random_state=seed)"
   ]
  },
  {
   "cell_type": "code",
   "execution_count": 16,
   "metadata": {},
   "outputs": [
    {
     "data": {
      "text/plain": [
       "(199, 57736)"
      ]
     },
     "execution_count": 16,
     "metadata": {},
     "output_type": "execute_result"
    }
   ],
   "source": [
    "# Determine shape of training data features for cross-validation\n",
    "X_train.shape"
   ]
  },
  {
   "cell_type": "code",
   "execution_count": 17,
   "metadata": {},
   "outputs": [
    {
     "data": {
      "text/plain": [
       "(199,)"
      ]
     },
     "execution_count": 17,
     "metadata": {},
     "output_type": "execute_result"
    }
   ],
   "source": [
    "# Determine shape of training data calls for cross-validation\n",
    "Y_train.shape"
   ]
  },
  {
   "cell_type": "code",
   "execution_count": 18,
   "metadata": {},
   "outputs": [
    {
     "name": "stdout",
     "output_type": "stream",
     "text": [
      "Counter({True: 165, False: 165})\n"
     ]
    }
   ],
   "source": [
    "# oversample\n",
    "X_over, Y_over = ros.fit_resample(X_train, Y_train)\n",
    "\n",
    "# summarize class distribution\n",
    "print(Counter(Y_over))"
   ]
  },
  {
   "cell_type": "code",
   "execution_count": 31,
   "metadata": {},
   "outputs": [
    {
     "data": {
      "text/plain": [
       "(330, 57736)"
      ]
     },
     "execution_count": 31,
     "metadata": {},
     "output_type": "execute_result"
    }
   ],
   "source": [
    "# Determine shape of oversampled training data features for cross-validation\n",
    "X_over.shape"
   ]
  },
  {
   "cell_type": "code",
   "execution_count": 32,
   "metadata": {},
   "outputs": [
    {
     "data": {
      "text/plain": [
       "(330,)"
      ]
     },
     "execution_count": 32,
     "metadata": {},
     "output_type": "execute_result"
    }
   ],
   "source": [
    "# Determine shape of oversampled training data features for cross-validation\n",
    "Y_over.shape"
   ]
  },
  {
   "cell_type": "markdown",
   "metadata": {},
   "source": [
    "## Get the training accuracy and AUC using kfold cross-validation"
   ]
  },
  {
   "cell_type": "code",
   "execution_count": 33,
   "metadata": {},
   "outputs": [],
   "source": [
    "#Print accuracy\n",
    "probabilities = cross_val_predict(rfc, X_over, Y_over, cv=kfold, method='predict_proba')\n"
   ]
  },
  {
   "cell_type": "code",
   "execution_count": 34,
   "metadata": {},
   "outputs": [],
   "source": [
    "def predict_classes(probabilities):\n",
    "    \"\"\"Predict class labels from probabilities\"\"\"\n",
    "    \n",
    "    predicted = np.array([list(a).index(max(list(a))) for a in list(probabilities)])\n",
    "    label_binarizer = preprocessing.LabelBinarizer()\n",
    "    label_binarizer.fit(range(max(predicted) + 1))\n",
    "    return label_binarizer.transform(predicted)"
   ]
  },
  {
   "cell_type": "code",
   "execution_count": 35,
   "metadata": {},
   "outputs": [
    {
     "name": "stdout",
     "output_type": "stream",
     "text": [
      "Cross validation accuracy:\n",
      "0.9696969696969697\n",
      "\n",
      "Cross validation classification report\n",
      "\n",
      "              precision    recall  f1-score   support\n",
      "\n",
      "       False       0.94      1.00      0.97       165\n",
      "        True       1.00      0.94      0.97       165\n",
      "\n",
      "    accuracy                           0.97       330\n",
      "   macro avg       0.97      0.97      0.97       330\n",
      "weighted avg       0.97      0.97      0.97       330\n",
      "\n"
     ]
    }
   ],
   "source": [
    "print('Cross validation accuracy:')\n",
    "print(metrics.accuracy_score(Y_over, predict_classes(probabilities)))\n",
    "print('\\nCross validation classification report\\n')\n",
    "print(metrics.classification_report(Y_over, predict_classes(probabilities)))"
   ]
  },
  {
   "cell_type": "code",
   "execution_count": 36,
   "metadata": {},
   "outputs": [
    {
     "data": {
      "image/png": "[encoded data removed]",
      "text/plain": [
       "<Figure size 432x288 with 1 Axes>"
      ]
     },
     "metadata": {
      "needs_background": "light"
     },
     "output_type": "display_data"
    }
   ],
   "source": [
    "# Plot ROC for Random Forest\n",
    "fpr, tpr, thresholds = metrics.roc_curve(Y_over, predict_classes(probabilities))\n",
    "plt.figure()\n",
    "lw = 2\n",
    "plt.plot(fpr, tpr, color='darkorange',\n",
    "         lw=lw, label='ROC curve (area = %0.2f)' % metrics.auc(fpr,tpr))\n",
    "plt.plot([0, 1], [0, 1], color='navy', lw=lw, linestyle='--')\n",
    "plt.xlim([0.0, 1.0])\n",
    "plt.ylim([0.0, 1.0])\n",
    "plt.xlabel('False Positive Rate')\n",
    "plt.ylabel('True Positive Rate')\n",
    "plt.title('Receiver operating characteristic - Random Forest Model')\n",
    "plt.legend(loc=\"lower right\")\n",
    "plt.show()"
   ]
  },
  {
   "cell_type": "code",
   "execution_count": 60,
   "metadata": {},
   "outputs": [
    {
     "data": {
      "image/png": "[encoded data removed]",
      "text/plain": [
       "<Figure size 288x288 with 2 Axes>"
      ]
     },
     "metadata": {
      "needs_background": "light"
     },
     "output_type": "display_data"
    }
   ],
   "source": [
    "# Plot confusion matrix\n",
    "confusion_matrix = metrics.confusion_matrix(Y_over, predict_classes(probabilities))\n",
    "class_names = Y_over.unique()\n",
    "df_cm = pd.DataFrame(\n",
    "        confusion_matrix, index=class_names, columns=class_names, \n",
    "    )\n",
    "fig = plt.figure(figsize=(4,4))\n",
    "heatmap = sns.heatmap(df_cm, annot=True, fmt=\"d\")\n",
    "plt.ylabel('True label')\n",
    "plt.xlabel('Predicted label')\n",
    "plt.show()"
   ]
  },
  {
   "cell_type": "markdown",
   "metadata": {},
   "source": [
    "## Show the 18 most important features"
   ]
  },
  {
   "cell_type": "code",
   "execution_count": 53,
   "metadata": {},
   "outputs": [],
   "source": [
    "# Rebuild RFC model\n",
    "rfc_fit = rfc.fit(X_over, Y_over)"
   ]
  },
  {
   "cell_type": "code",
   "execution_count": 54,
   "metadata": {},
   "outputs": [
    {
     "data": {
      "image/png": "[encoded data removed]",
      "text/plain": [
       "<Figure size 432x288 with 1 Axes>"
      ]
     },
     "metadata": {
      "needs_background": "light"
     },
     "output_type": "display_data"
    },
    {
     "name": "stdout",
     "output_type": "stream",
     "text": [
      "The 18 most important features are: \n",
      "\n",
      "Index(['ENSG00000162894', 'ENSG00000132424', 'ENSG00000147168',\n",
      "       'ENSG00000168421', 'ENSG00000125691', 'ENSG00000248124',\n",
      "       'ENSG00000100354', 'ENSG00000213445', 'ENSG00000140479',\n",
      "       'ENSG00000198851', 'ENSG00000167286', 'ENSG00000143947',\n",
      "       'ENSG00000155657', 'ENSG00000177697', 'ENSG00000126353',\n",
      "       'ENSG00000117643', 'ENSG00000157600', 'ENSG00000130921'],\n",
      "      dtype='object')\n"
     ]
    }
   ],
   "source": [
    "# Create function to determine the feature importance \n",
    "importances = rfc_fit.feature_importances_\n",
    "indices = np.argsort(importances)[::-1]\n",
    "plt.figure()\n",
    "plt.title(\"Feature importances\")\n",
    "plt.bar(range(18),importances[indices][:18],color=\"r\", align=\"center\")\n",
    "plt.xticks(range(18),training_data.T.index[indices][:18],rotation = 90)\n",
    "plt.xlim([-1, 18])\n",
    "plt.show()\n",
    "print('The 18 most important features are: \\n')\n",
    "print(training_data.T.index[indices][:18])"
   ]
  },
  {
   "cell_type": "markdown",
   "metadata": {},
   "source": [
    "## Get the test data accuracy and AUC"
   ]
  },
  {
   "cell_type": "code",
   "execution_count": 55,
   "metadata": {},
   "outputs": [],
   "source": [
    "# Determine performance on test set\n",
    "test_prob = rfc_fit.predict_proba(X_test)"
   ]
  },
  {
   "cell_type": "code",
   "execution_count": 56,
   "metadata": {},
   "outputs": [
    {
     "name": "stdout",
     "output_type": "stream",
     "text": [
      "Cross validation accuracy:\n",
      "0.9069767441860465\n",
      "\n",
      "Cross validation classification report\n",
      "\n",
      "              precision    recall  f1-score   support\n",
      "\n",
      "       False       0.88      0.70      0.78        20\n",
      "        True       0.91      0.97      0.94        66\n",
      "\n",
      "    accuracy                           0.91        86\n",
      "   macro avg       0.89      0.83      0.86        86\n",
      "weighted avg       0.91      0.91      0.90        86\n",
      "\n"
     ]
    }
   ],
   "source": [
    "# Metrics for test set\n",
    "print('Cross validation accuracy:')\n",
    "print(metrics.accuracy_score(Y_test, predict_classes(test_prob)))\n",
    "print('\\nCross validation classification report\\n')\n",
    "print(metrics.classification_report(Y_test, predict_classes(test_prob)))\n"
   ]
  },
  {
   "cell_type": "code",
   "execution_count": 57,
   "metadata": {},
   "outputs": [
    {
     "data": {
      "image/png": "[encoded data removed]",
      "text/plain": [
       "<Figure size 432x288 with 1 Axes>"
      ]
     },
     "metadata": {
      "needs_background": "light"
     },
     "output_type": "display_data"
    }
   ],
   "source": [
    "# Plot ROC for Random Forest\n",
    "fpr, tpr, thresholds = metrics.roc_curve(Y_test, predict_classes(test_prob))\n",
    "plt.figure()\n",
    "lw = 2\n",
    "plt.plot(fpr, tpr, color='darkorange',\n",
    "         lw=lw, label='ROC curve (area = %0.2f)' % metrics.auc(fpr,tpr))\n",
    "plt.plot([0, 1], [0, 1], color='navy', lw=lw, linestyle='--')\n",
    "plt.xlim([0.0, 1.0])\n",
    "plt.ylim([0.0, 1.0])\n",
    "plt.xlabel('False Positive Rate')\n",
    "plt.ylabel('True Positive Rate')\n",
    "plt.title('Receiver operating characteristic - Random Forest Model')\n",
    "plt.legend(loc=\"lower right\")\n",
    "plt.show()"
   ]
  },
  {
   "cell_type": "code",
   "execution_count": 59,
   "metadata": {},
   "outputs": [
    {
     "data": {
      "image/png": "[encoded data removed]",
      "text/plain": [
       "<Figure size 288x288 with 2 Axes>"
      ]
     },
     "metadata": {
      "needs_background": "light"
     },
     "output_type": "display_data"
    }
   ],
   "source": [
    "# Plot confusion matrix\n",
    "confusion_matrix = metrics.confusion_matrix(Y_test, predict_classes(test_prob))\n",
    "class_names = Y_over.unique()\n",
    "df_cm = pd.DataFrame(\n",
    "        confusion_matrix, index=class_names, columns=class_names, \n",
    "    )\n",
    "fig = plt.figure(figsize=(4,4))\n",
    "heatmap = sns.heatmap(df_cm, annot=True, fmt=\"d\")\n",
    "plt.ylabel('True label')\n",
    "plt.xlabel('Predicted label')\n",
    "plt.show()"
   ]
  },
  {
   "cell_type": "markdown",
   "metadata": {},
   "source": [
    "## Get testing accuracy again using feature selection of \"r\" features"
   ]
  },
  {
   "cell_type": "code",
   "execution_count": 230,
   "metadata": {},
   "outputs": [
    {
     "name": "stdout",
     "output_type": "stream",
     "text": [
      "162\n"
     ]
    }
   ],
   "source": [
    "# takes a while\n",
    "maxtrain = 0\n",
    "maxtest = 0\n",
    "maxr = 0\n",
    "for r in range(15, 180):\n",
    "    X_over_select = np.take(X_over, indices[:r], 1)\n",
    "    rfc_fit_select = rfc.fit(X_over_select, Y_over)\n",
    "    probabilities_select = cross_val_predict(rfc, X_over_select, Y_over, cv=kfold, method='predict_proba')\n",
    "    acctrain = metrics.accuracy_score(Y_over, predict_classes(probabilities_select))\n",
    "    X_test_select = np.take(X_test, indices[:r], 1)\n",
    "    test_prob_select = rfc_fit_select.predict_proba(X_test_select)\n",
    "    acctest =  metrics.accuracy_score(Y_test, predict_classes(test_prob_select))\n",
    "    if acctrain > maxtrain:\n",
    "        if acctest > maxtest:\n",
    "            maxtrain = acctrain \n",
    "            maxtest = acctest\n",
    "            maxr = r\n",
    "print(maxr)"
   ]
  },
  {
   "cell_type": "code",
   "execution_count": 221,
   "metadata": {},
   "outputs": [],
   "source": [
    "r = 162"
   ]
  },
  {
   "cell_type": "code",
   "execution_count": 222,
   "metadata": {},
   "outputs": [],
   "source": [
    "# Rebuild RFC model\n",
    "X_over_select = np.take(X_over, indices[:r], 1)\n",
    "rfc_fit_select = rfc.fit(X_over_select, Y_over)"
   ]
  },
  {
   "cell_type": "code",
   "execution_count": 223,
   "metadata": {},
   "outputs": [
    {
     "name": "stdout",
     "output_type": "stream",
     "text": [
      "Cross validation accuracy:\n",
      "0.9757575757575757\n",
      "\n",
      "Cross validation classification report\n",
      "\n",
      "              precision    recall  f1-score   support\n",
      "\n",
      "       False       0.95      1.00      0.98       165\n",
      "        True       1.00      0.95      0.98       165\n",
      "\n",
      "    accuracy                           0.98       330\n",
      "   macro avg       0.98      0.98      0.98       330\n",
      "weighted avg       0.98      0.98      0.98       330\n",
      "\n"
     ]
    }
   ],
   "source": [
    "#Print accuracy\n",
    "probabilities_select = cross_val_predict(rfc, X_over_select, Y_over, cv=kfold, method='predict_proba')\n",
    "print('Cross validation accuracy:')\n",
    "print(metrics.accuracy_score(Y_over, predict_classes(probabilities_select)))\n",
    "print('\\nCross validation classification report\\n')\n",
    "print(metrics.classification_report(Y_over, predict_classes(probabilities_select)))"
   ]
  },
  {
   "cell_type": "code",
   "execution_count": 224,
   "metadata": {},
   "outputs": [
    {
     "data": {
      "image/png": "[encoded data removed]",
      "text/plain": [
       "<Figure size 432x288 with 1 Axes>"
      ]
     },
     "metadata": {
      "needs_background": "light"
     },
     "output_type": "display_data"
    }
   ],
   "source": [
    "# Plot ROC for Random Forest\n",
    "fpr, tpr, thresholds = metrics.roc_curve(Y_over, predict_classes(probabilities_select))\n",
    "plt.figure()\n",
    "lw = 2\n",
    "plt.plot(fpr, tpr, color='darkorange',\n",
    "         lw=lw, label='ROC curve (area = %0.2f)' % metrics.auc(fpr,tpr))\n",
    "plt.plot([0, 1], [0, 1], color='navy', lw=lw, linestyle='--')\n",
    "plt.xlim([0.0, 1.0])\n",
    "plt.ylim([0.0, 1.0])\n",
    "plt.xlabel('False Positive Rate')\n",
    "plt.ylabel('True Positive Rate')\n",
    "plt.title('Receiver operating characteristic - Random Forest Model')\n",
    "plt.legend(loc=\"lower right\")\n",
    "plt.show()"
   ]
  },
  {
   "cell_type": "code",
   "execution_count": 225,
   "metadata": {},
   "outputs": [
    {
     "data": {
      "image/png": "[encoded data removed]",
      "text/plain": [
       "<Figure size 288x288 with 2 Axes>"
      ]
     },
     "metadata": {
      "needs_background": "light"
     },
     "output_type": "display_data"
    }
   ],
   "source": [
    "# Plot confusion matrix\n",
    "confusion_matrix = metrics.confusion_matrix(Y_over, predict_classes(probabilities_select))\n",
    "class_names = Y_over.unique()\n",
    "df_cm = pd.DataFrame(\n",
    "        confusion_matrix, index=class_names, columns=class_names, \n",
    "    )\n",
    "fig = plt.figure(figsize=(4,4))\n",
    "heatmap = sns.heatmap(df_cm, annot=True, fmt=\"d\")\n",
    "plt.ylabel('True label')\n",
    "plt.xlabel('Predicted label')\n",
    "plt.show()"
   ]
  },
  {
   "cell_type": "code",
   "execution_count": 226,
   "metadata": {},
   "outputs": [],
   "source": [
    "# Determine performance on test set\n",
    "X_test_select = np.take(X_test, indices[:r], 1)\n",
    "test_prob_select = rfc_fit_select.predict_proba(X_test_select)"
   ]
  },
  {
   "cell_type": "code",
   "execution_count": 227,
   "metadata": {},
   "outputs": [
    {
     "name": "stdout",
     "output_type": "stream",
     "text": [
      "Cross validation accuracy:\n",
      "0.9186046511627907\n",
      "\n",
      "Cross validation classification report\n",
      "\n",
      "              precision    recall  f1-score   support\n",
      "\n",
      "       False       0.93      0.70      0.80        20\n",
      "        True       0.92      0.98      0.95        66\n",
      "\n",
      "    accuracy                           0.92        86\n",
      "   macro avg       0.92      0.84      0.87        86\n",
      "weighted avg       0.92      0.92      0.91        86\n",
      "\n"
     ]
    }
   ],
   "source": [
    "# Metrics for test set\n",
    "print('Cross validation accuracy:')\n",
    "print(metrics.accuracy_score(Y_test, predict_classes(test_prob_select)))\n",
    "print('\\nCross validation classification report\\n')\n",
    "print(metrics.classification_report(Y_test, predict_classes(test_prob_select)))\n"
   ]
  },
  {
   "cell_type": "code",
   "execution_count": 228,
   "metadata": {},
   "outputs": [
    {
     "data": {
      "image/png": "[encoded data removed]",
      "text/plain": [
       "<Figure size 432x288 with 1 Axes>"
      ]
     },
     "metadata": {
      "needs_background": "light"
     },
     "output_type": "display_data"
    }
   ],
   "source": [
    "# Plot ROC for Random Forest\n",
    "fpr, tpr, thresholds = metrics.roc_curve(Y_test, predict_classes(test_prob_select))\n",
    "plt.figure()\n",
    "lw = 2\n",
    "plt.plot(fpr, tpr, color='darkorange',\n",
    "         lw=lw, label='ROC curve (area = %0.2f)' % metrics.auc(fpr,tpr))\n",
    "plt.plot([0, 1], [0, 1], color='navy', lw=lw, linestyle='--')\n",
    "plt.xlim([0.0, 1.0])\n",
    "plt.ylim([0.0, 1.0])\n",
    "plt.xlabel('False Positive Rate')\n",
    "plt.ylabel('True Positive Rate')\n",
    "plt.title('Receiver operating characteristic - Random Forest Model')\n",
    "plt.legend(loc=\"lower right\")\n",
    "plt.show()"
   ]
  },
  {
   "cell_type": "code",
   "execution_count": 229,
   "metadata": {},
   "outputs": [
    {
     "data": {
      "image/png": "[encoded data removed]",
      "text/plain": [
       "<Figure size 288x288 with 2 Axes>"
      ]
     },
     "metadata": {
      "needs_background": "light"
     },
     "output_type": "display_data"
    }
   ],
   "source": [
    "# Plot confusion matrix\n",
    "confusion_matrix = metrics.confusion_matrix(Y_test, predict_classes(test_prob_select))\n",
    "class_names = Y_over.unique()\n",
    "df_cm = pd.DataFrame(\n",
    "        confusion_matrix, index=class_names, columns=class_names, \n",
    "    )\n",
    "fig = plt.figure(figsize=(4,4))\n",
    "heatmap = sns.heatmap(df_cm, annot=True, fmt=\"d\")\n",
    "plt.ylabel('True label')\n",
    "plt.xlabel('Predicted label')\n",
    "plt.show()"
   ]
  }
 ],
 "metadata": {
  "kernelspec": {
   "display_name": "Python 3",
   "language": "python",
   "name": "python3"
  },
  "language_info": {
   "codemirror_mode": {
    "name": "ipython",
    "version": 3
   },
   "file_extension": ".py",
   "mimetype": "text/x-python",
   "name": "python",
   "nbconvert_exporter": "python",
   "pygments_lexer": "ipython3",
   "version": "3.6.10"
  }
 },
 "nbformat": 4,
 "nbformat_minor": 4
}
