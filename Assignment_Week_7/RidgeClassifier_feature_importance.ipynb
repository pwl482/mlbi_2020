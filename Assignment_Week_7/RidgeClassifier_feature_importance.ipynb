{
 "cells": [
  {
   "cell_type": "markdown",
   "metadata": {},
   "source": [
    "Implementing ridge classifier from sklearn package using Generalized Cross Vailidation to optimise L2 penalty coefficient alpha."
   ]
  },
  {
   "cell_type": "code",
   "execution_count": 1,
   "metadata": {},
   "outputs": [
    {
     "name": "stdout",
     "output_type": "stream",
     "text": [
      "Populating the interactive namespace from numpy and matplotlib\n"
     ]
    }
   ],
   "source": [
    "%pylab inline\n",
    "%load_ext autoreload\n",
    "%reload_ext autoreload\n",
    "%autoreload 2\n",
    "%matplotlib inline"
   ]
  },
  {
   "cell_type": "code",
   "execution_count": 2,
   "metadata": {},
   "outputs": [],
   "source": [
    "import pandas as pd\n",
    "import numpy as np\n",
    "from sklearn.model_selection import train_test_split, KFold, cross_val_predict, cross_val_score\n",
    "from sklearn import preprocessing, metrics\n",
    "from sklearn.ensemble import RandomForestClassifier\n",
    "from sklearn.neighbors import KNeighborsClassifier\n",
    "from sklearn import linear_model\n",
    "from sklearn.metrics import plot_roc_curve\n",
    "import matplotlib.pyplot as plt\n",
    "import seaborn as sns\n",
    "from imblearn.under_sampling import RandomUnderSampler\n",
    "from imblearn.over_sampling import RandomOverSampler\n",
    "from imblearn import pipeline\n",
    "from collections import Counter"
   ]
  },
  {
   "cell_type": "code",
   "execution_count": 3,
   "metadata": {},
   "outputs": [
    {
     "data": {
      "text/html": [
       "<div>\n",
       "<style scoped>\n",
       "    .dataframe tbody tr th:only-of-type {\n",
       "        vertical-align: middle;\n",
       "    }\n",
       "\n",
       "    .dataframe tbody tr th {\n",
       "        vertical-align: top;\n",
       "    }\n",
       "\n",
       "    .dataframe thead th {\n",
       "        text-align: right;\n",
       "    }\n",
       "</style>\n",
       "<table border=\"1\" class=\"dataframe\">\n",
       "  <thead>\n",
       "    <tr style=\"text-align: right;\">\n",
       "      <th></th>\n",
       "      <th>ENSG00000000003</th>\n",
       "      <th>ENSG00000000005</th>\n",
       "      <th>ENSG00000000419</th>\n",
       "      <th>ENSG00000000457</th>\n",
       "      <th>ENSG00000000460</th>\n",
       "      <th>ENSG00000000938</th>\n",
       "      <th>ENSG00000000971</th>\n",
       "      <th>ENSG00000001036</th>\n",
       "      <th>ENSG00000001084</th>\n",
       "      <th>ENSG00000001167</th>\n",
       "      <th>...</th>\n",
       "      <th>ENSG00000273481</th>\n",
       "      <th>ENSG00000273483</th>\n",
       "      <th>ENSG00000273484</th>\n",
       "      <th>ENSG00000273485</th>\n",
       "      <th>ENSG00000273486</th>\n",
       "      <th>ENSG00000273487</th>\n",
       "      <th>ENSG00000273488</th>\n",
       "      <th>ENSG00000273489</th>\n",
       "      <th>ENSG00000273492</th>\n",
       "      <th>ENSG00000273493</th>\n",
       "    </tr>\n",
       "  </thead>\n",
       "  <tbody>\n",
       "    <tr>\n",
       "      <th>3-Breast-Her2-ampl</th>\n",
       "      <td>0</td>\n",
       "      <td>0</td>\n",
       "      <td>44</td>\n",
       "      <td>26</td>\n",
       "      <td>81</td>\n",
       "      <td>171</td>\n",
       "      <td>34</td>\n",
       "      <td>83</td>\n",
       "      <td>0</td>\n",
       "      <td>14</td>\n",
       "      <td>...</td>\n",
       "      <td>0</td>\n",
       "      <td>0</td>\n",
       "      <td>0</td>\n",
       "      <td>0</td>\n",
       "      <td>1</td>\n",
       "      <td>0</td>\n",
       "      <td>0</td>\n",
       "      <td>1</td>\n",
       "      <td>4</td>\n",
       "      <td>0</td>\n",
       "    </tr>\n",
       "    <tr>\n",
       "      <th>8-Breast-WT</th>\n",
       "      <td>0</td>\n",
       "      <td>0</td>\n",
       "      <td>14</td>\n",
       "      <td>1</td>\n",
       "      <td>98</td>\n",
       "      <td>99</td>\n",
       "      <td>0</td>\n",
       "      <td>107</td>\n",
       "      <td>0</td>\n",
       "      <td>5</td>\n",
       "      <td>...</td>\n",
       "      <td>0</td>\n",
       "      <td>0</td>\n",
       "      <td>0</td>\n",
       "      <td>0</td>\n",
       "      <td>0</td>\n",
       "      <td>0</td>\n",
       "      <td>0</td>\n",
       "      <td>0</td>\n",
       "      <td>0</td>\n",
       "      <td>0</td>\n",
       "    </tr>\n",
       "    <tr>\n",
       "      <th>10-Breast-Her2-ampl</th>\n",
       "      <td>0</td>\n",
       "      <td>0</td>\n",
       "      <td>16</td>\n",
       "      <td>14</td>\n",
       "      <td>18</td>\n",
       "      <td>25</td>\n",
       "      <td>0</td>\n",
       "      <td>62</td>\n",
       "      <td>4</td>\n",
       "      <td>13</td>\n",
       "      <td>...</td>\n",
       "      <td>0</td>\n",
       "      <td>0</td>\n",
       "      <td>0</td>\n",
       "      <td>0</td>\n",
       "      <td>0</td>\n",
       "      <td>0</td>\n",
       "      <td>0</td>\n",
       "      <td>0</td>\n",
       "      <td>0</td>\n",
       "      <td>0</td>\n",
       "    </tr>\n",
       "    <tr>\n",
       "      <th>Breast-100</th>\n",
       "      <td>0</td>\n",
       "      <td>0</td>\n",
       "      <td>8</td>\n",
       "      <td>0</td>\n",
       "      <td>17</td>\n",
       "      <td>4</td>\n",
       "      <td>0</td>\n",
       "      <td>19</td>\n",
       "      <td>0</td>\n",
       "      <td>0</td>\n",
       "      <td>...</td>\n",
       "      <td>0</td>\n",
       "      <td>0</td>\n",
       "      <td>0</td>\n",
       "      <td>0</td>\n",
       "      <td>0</td>\n",
       "      <td>0</td>\n",
       "      <td>0</td>\n",
       "      <td>0</td>\n",
       "      <td>0</td>\n",
       "      <td>0</td>\n",
       "    </tr>\n",
       "    <tr>\n",
       "      <th>15-Breast-Her2-ampl</th>\n",
       "      <td>17</td>\n",
       "      <td>0</td>\n",
       "      <td>9</td>\n",
       "      <td>4</td>\n",
       "      <td>0</td>\n",
       "      <td>49</td>\n",
       "      <td>0</td>\n",
       "      <td>40</td>\n",
       "      <td>0</td>\n",
       "      <td>10</td>\n",
       "      <td>...</td>\n",
       "      <td>0</td>\n",
       "      <td>0</td>\n",
       "      <td>0</td>\n",
       "      <td>0</td>\n",
       "      <td>0</td>\n",
       "      <td>0</td>\n",
       "      <td>0</td>\n",
       "      <td>0</td>\n",
       "      <td>0</td>\n",
       "      <td>0</td>\n",
       "    </tr>\n",
       "  </tbody>\n",
       "</table>\n",
       "<p>5 rows × 57736 columns</p>\n",
       "</div>"
      ],
      "text/plain": [
       "                     ENSG00000000003  ENSG00000000005  ENSG00000000419  \\\n",
       "3-Breast-Her2-ampl                 0                0               44   \n",
       "8-Breast-WT                        0                0               14   \n",
       "10-Breast-Her2-ampl                0                0               16   \n",
       "Breast-100                         0                0                8   \n",
       "15-Breast-Her2-ampl               17                0                9   \n",
       "\n",
       "                     ENSG00000000457  ENSG00000000460  ENSG00000000938  \\\n",
       "3-Breast-Her2-ampl                26               81              171   \n",
       "8-Breast-WT                        1               98               99   \n",
       "10-Breast-Her2-ampl               14               18               25   \n",
       "Breast-100                         0               17                4   \n",
       "15-Breast-Her2-ampl                4                0               49   \n",
       "\n",
       "                     ENSG00000000971  ENSG00000001036  ENSG00000001084  \\\n",
       "3-Breast-Her2-ampl                34               83                0   \n",
       "8-Breast-WT                        0              107                0   \n",
       "10-Breast-Her2-ampl                0               62                4   \n",
       "Breast-100                         0               19                0   \n",
       "15-Breast-Her2-ampl                0               40                0   \n",
       "\n",
       "                     ENSG00000001167  ...  ENSG00000273481  ENSG00000273483  \\\n",
       "3-Breast-Her2-ampl                14  ...                0                0   \n",
       "8-Breast-WT                        5  ...                0                0   \n",
       "10-Breast-Her2-ampl               13  ...                0                0   \n",
       "Breast-100                         0  ...                0                0   \n",
       "15-Breast-Her2-ampl               10  ...                0                0   \n",
       "\n",
       "                     ENSG00000273484  ENSG00000273485  ENSG00000273486  \\\n",
       "3-Breast-Her2-ampl                 0                0                1   \n",
       "8-Breast-WT                        0                0                0   \n",
       "10-Breast-Her2-ampl                0                0                0   \n",
       "Breast-100                         0                0                0   \n",
       "15-Breast-Her2-ampl                0                0                0   \n",
       "\n",
       "                     ENSG00000273487  ENSG00000273488  ENSG00000273489  \\\n",
       "3-Breast-Her2-ampl                 0                0                1   \n",
       "8-Breast-WT                        0                0                0   \n",
       "10-Breast-Her2-ampl                0                0                0   \n",
       "Breast-100                         0                0                0   \n",
       "15-Breast-Her2-ampl                0                0                0   \n",
       "\n",
       "                     ENSG00000273492  ENSG00000273493  \n",
       "3-Breast-Her2-ampl                 4                0  \n",
       "8-Breast-WT                        0                0  \n",
       "10-Breast-Her2-ampl                0                0  \n",
       "Breast-100                         0                0  \n",
       "15-Breast-Her2-ampl                0                0  \n",
       "\n",
       "[5 rows x 57736 columns]"
      ]
     },
     "execution_count": 3,
     "metadata": {},
     "output_type": "execute_result"
    }
   ],
   "source": [
    "# Pull in training data\n",
    "training_data = pd.read_csv('GSE68086_TEP_data_matrix.txt', sep='\\t',index_col=0).T\n",
    "training_data.head()"
   ]
  },
  {
   "cell_type": "code",
   "execution_count": 4,
   "metadata": {},
   "outputs": [
    {
     "data": {
      "text/plain": [
       "(285, 2246)"
      ]
     },
     "execution_count": 4,
     "metadata": {},
     "output_type": "execute_result"
    }
   ],
   "source": [
    "#pull differentially expressed genes \n",
    "dexp_data = pd.read_excel('mmc3.xlsx', skiprows=4)\n",
    "diff_gene = dexp_data[\"Ensembl gene ID\"]\n",
    "#save whole training data\n",
    "sv_training_data = training_data\n",
    "#extract differentially expressed genes\n",
    "training_data = training_data[training_data.columns.intersection(diff_gene)]\n",
    "shape(training_data)"
   ]
  },
  {
   "cell_type": "code",
   "execution_count": 5,
   "metadata": {},
   "outputs": [
    {
     "name": "stderr",
     "output_type": "stream",
     "text": [
      "/home/suiram/anaconda3/envs/week7/lib/python3.7/site-packages/ipykernel_launcher.py:1: SettingWithCopyWarning: \n",
      "A value is trying to be set on a copy of a slice from a DataFrame.\n",
      "Try using .loc[row_indexer,col_indexer] = value instead\n",
      "\n",
      "See the caveats in the documentation: https://pandas.pydata.org/pandas-docs/stable/user_guide/indexing.html#returning-a-view-versus-a-copy\n",
      "  \"\"\"Entry point for launching an IPython kernel.\n",
      "/home/suiram/anaconda3/envs/week7/lib/python3.7/site-packages/ipykernel_launcher.py:2: SettingWithCopyWarning: \n",
      "A value is trying to be set on a copy of a slice from a DataFrame.\n",
      "Try using .loc[row_indexer,col_indexer] = value instead\n",
      "\n",
      "See the caveats in the documentation: https://pandas.pydata.org/pandas-docs/stable/user_guide/indexing.html#returning-a-view-versus-a-copy\n",
      "  \n",
      "/home/suiram/anaconda3/envs/week7/lib/python3.7/site-packages/pandas/core/indexing.py:966: SettingWithCopyWarning: \n",
      "A value is trying to be set on a copy of a slice from a DataFrame.\n",
      "Try using .loc[row_indexer,col_indexer] = value instead\n",
      "\n",
      "See the caveats in the documentation: https://pandas.pydata.org/pandas-docs/stable/user_guide/indexing.html#returning-a-view-versus-a-copy\n",
      "  self.obj[item] = s\n"
     ]
    }
   ],
   "source": [
    "training_data[\"cancer\"] = list(training_data.index)\n",
    "training_data[\"cancer\"] = training_data.cancer.str.extract(r'(Breast|BrCa|CRC|GBM|NSCLC|Lung|Chol|Liver|HBC|Panc|Unknown|HD|Control)')\n",
    "training_data.loc[training_data.cancer ==\"Breast\",\"cancer\"] = \"BrCa\"\n",
    "training_data.loc[training_data.cancer==\"Lung\",\"cancer\"] = \"NSCLC\"\n",
    "training_data.loc[training_data.cancer==\"Chol\",\"cancer\"] = \"HBC\"\n",
    "training_data.loc[training_data.cancer==\"Liver\",\"cancer\"] = \"HBC\"\n",
    "training_data.loc[training_data.cancer==\"Panc\",\"cancer\"] = \"PAAD\"\n",
    "training_data.loc[training_data.cancer==\"Control\",\"cancer\"] = \"HD\""
   ]
  },
  {
   "cell_type": "code",
   "execution_count": 6,
   "metadata": {},
   "outputs": [],
   "source": [
    "# Fix random seed for reproducibility\n",
    "seed = 3\n",
    "np.random.seed(seed)\n",
    "# Exclude Unknown cases\n",
    "# Get labels for training data\n",
    "Y = training_data.cancer[training_data.cancer != \"Unknown\"] != \"HD\"\n",
    "\n",
    "# Get training data as numpy array\n",
    "X = training_data[training_data.cancer != \"Unknown\"].drop(['cancer'], axis=1).astype(float).values"
   ]
  },
  {
   "cell_type": "code",
   "execution_count": 7,
   "metadata": {},
   "outputs": [
    {
     "name": "stdout",
     "output_type": "stream",
     "text": [
      "Counter({True: 162, False: 162})\n",
      "(324, 2246)\n",
      "(324,)\n"
     ]
    }
   ],
   "source": [
    "# prepare datasets for test and training using oversampling\n",
    "ros = RandomOverSampler(1,random_state=seed)\n",
    "rus = RandomUnderSampler(1,random_state=seed)\n",
    "X_train, X_test, Y_train, Y_test = train_test_split(X, Y, test_size=0.3, random_state=seed)\n",
    "X_over, Y_over = ros.fit_resample(X_train, Y_train)\n",
    "\n",
    "# summarize class distribution\n",
    "print(Counter(Y_over))\n",
    "print(X_over.shape)\n",
    "print(Y_over.shape)\n",
    "\n"
   ]
  },
  {
   "cell_type": "code",
   "execution_count": 8,
   "metadata": {},
   "outputs": [
    {
     "name": "stdout",
     "output_type": "stream",
     "text": [
      "Generalized CV identified optimal parameter alpha=\n",
      "100000000.0\n"
     ]
    }
   ],
   "source": [
    "# tune alpha\n",
    "ridg = linear_model.RidgeClassifierCV(alphas=np.logspace(-6, 12, 19))\n",
    "ridg.fit(X_over, Y_over)\n",
    "print('Generalized CV identified optimal parameter alpha=')\n",
    "print(ridg.alpha_)\n",
    "opt_alpha = ridg.alpha_\n",
    "\n",
    "\n",
    "\n"
   ]
  },
  {
   "cell_type": "code",
   "execution_count": 9,
   "metadata": {},
   "outputs": [
    {
     "name": "stdout",
     "output_type": "stream",
     "text": [
      "5-fold CV Training Accuracy: 0.93 (+/- 0.05)\n"
     ]
    }
   ],
   "source": [
    "#Evaluate performance\n",
    "ridg = linear_model.RidgeClassifier(alpha=opt_alpha, random_state=seed).fit(X_over, Y_over)\n",
    "training_scores = cross_val_score(ridg, X_over, Y_over, cv=5)\n",
    "print(\"5-fold CV Training Accuracy: %0.2f (+/- %0.2f)\" % (training_scores.mean(), training_scores.std() * 2))\n",
    "#test_scores= cross_val_score(ridg, X_test, Y_test, cv=10)\n",
    "#print(\"5-fold CV Test Accuracy: %0.2f (+/- %0.2f)\" % (test_scores.mean(), test_scores.std() * 2))"
   ]
  },
  {
   "cell_type": "code",
   "execution_count": 13,
   "metadata": {},
   "outputs": [
    {
     "name": "stdout",
     "output_type": "stream",
     "text": [
      "Confusion matrix Training data:\n",
      "[[162   0]\n",
      " [ 10 152]]\n",
      "Confusion matrix Test data\n",
      "[[19  1]\n",
      " [ 2 62]]\n"
     ]
    }
   ],
   "source": [
    "#Confusion Matrix\n",
    "print('Confusion matrix Training data:')\n",
    "print(metrics.confusion_matrix(Y_over, ridg.predict(X_over)))\n",
    "print('Confusion matrix Test data')\n",
    "print(metrics.confusion_matrix(Y_test, ridg.predict(X_test)))"
   ]
  },
  {
   "cell_type": "code",
   "execution_count": 10,
   "metadata": {},
   "outputs": [
    {
     "data": {
      "text/plain": [
       "<sklearn.metrics._plot.roc_curve.RocCurveDisplay at 0x7f5f49987550>"
      ]
     },
     "execution_count": 10,
     "metadata": {},
     "output_type": "execute_result"
    },
    {
     "data": {
      "image/png": "[encoded data removed]",
      "text/plain": [
       "<Figure size 432x288 with 1 Axes>"
      ]
     },
     "metadata": {
      "needs_background": "light"
     },
     "output_type": "display_data"
    }
   ],
   "source": [
    "#plot roc curve\n",
    "ax = plt.gca()\n",
    "training_disp = plot_roc_curve(ridg, X_over, Y_over, name='Training set', ax=ax)\n",
    "plot_roc_curve(ridg,X_test, Y_test, name='Test set', ax=ax)\n"
   ]
  },
  {
   "cell_type": "code",
   "execution_count": 11,
   "metadata": {},
   "outputs": [
    {
     "data": {
      "image/png": "[encoded data removed]",
      "text/plain": [
       "<Figure size 432x288 with 1 Axes>"
      ]
     },
     "metadata": {
      "needs_background": "light"
     },
     "output_type": "display_data"
    },
    {
     "name": "stdout",
     "output_type": "stream",
     "text": [
      "The 18 most important features are: \n",
      "\n",
      "Index(['ENSG00000143546', 'ENSG00000118855', 'ENSG00000140264',\n",
      "       'ENSG00000172543', 'ENSG00000002586', 'ENSG00000101608',\n",
      "       'ENSG00000112096', 'ENSG00000086232', 'ENSG00000177600',\n",
      "       'ENSG00000117289', 'ENSG00000131171', 'ENSG00000100351',\n",
      "       'ENSG00000102804', 'ENSG00000139644', 'ENSG00000164587',\n",
      "       'ENSG00000105887', 'ENSG00000138293', 'ENSG00000115523'],\n",
      "      dtype='object')\n"
     ]
    }
   ],
   "source": [
    "#get feature importance \n",
    "importances = abs(ridg.coef_)[0,:]\n",
    "indices = np.argsort(importances)[::-1]\n",
    "plt.figure()\n",
    "plt.title(\"Feature importances\")\n",
    "plt.bar(range(18),importances[indices][:18],color=\"r\", align=\"center\")\n",
    "plt.xticks(range(18),training_data.T.index[indices][:18],rotation = 90)\n",
    "plt.xlim([-1, 18])\n",
    "plt.show()\n",
    "print('The 18 most important features are: \\n')\n",
    "print(training_data.T.index[indices][:18])\n"
   ]
  },
  {
   "cell_type": "code",
   "execution_count": null,
   "metadata": {},
   "outputs": [],
   "source": []
  }
 ],
 "metadata": {
  "kernelspec": {
   "display_name": "Python 3",
   "language": "python",
   "name": "python3"
  },
  "language_info": {
   "codemirror_mode": {
    "name": "ipython",
    "version": 3
   },
   "file_extension": ".py",
   "mimetype": "text/x-python",
   "name": "python",
   "nbconvert_exporter": "python",
   "pygments_lexer": "ipython3",
   "version": "3.7.6"
  }
 },
 "nbformat": 4,
 "nbformat_minor": 4
}
