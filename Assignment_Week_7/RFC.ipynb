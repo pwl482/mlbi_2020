{
 "cells": [
  {
   "cell_type": "code",
   "execution_count": 1,
   "metadata": {},
   "outputs": [
    {
     "name": "stdout",
     "output_type": "stream",
     "text": [
      "Populating the interactive namespace from numpy and matplotlib\n"
     ]
    }
   ],
   "source": [
    "%pylab inline\n",
    "%load_ext autoreload\n",
    "%reload_ext autoreload\n",
    "%autoreload 2\n",
    "%matplotlib inline\n",
    "\n",
    "import pandas as pd\n",
    "import numpy as np\n",
    "from sklearn.model_selection import train_test_split, KFold, cross_val_predict, GridSearchCV\n",
    "from sklearn import preprocessing, metrics\n",
    "from sklearn.ensemble import RandomForestClassifier\n",
    "from sklearn.neighbors import KNeighborsClassifier\n",
    "import matplotlib.pyplot as plt\n",
    "import seaborn as sns\n",
    "from imblearn.under_sampling import RandomUnderSampler\n",
    "from imblearn.over_sampling import RandomOverSampler\n",
    "from imblearn import pipeline\n",
    "from collections import Counter"
   ]
  },
  {
   "cell_type": "code",
   "execution_count": 2,
   "metadata": {},
   "outputs": [
    {
     "data": {
      "text/html": [
       "<div>\n",
       "<style scoped>\n",
       "    .dataframe tbody tr th:only-of-type {\n",
       "        vertical-align: middle;\n",
       "    }\n",
       "\n",
       "    .dataframe tbody tr th {\n",
       "        vertical-align: top;\n",
       "    }\n",
       "\n",
       "    .dataframe thead th {\n",
       "        text-align: right;\n",
       "    }\n",
       "</style>\n",
       "<table border=\"1\" class=\"dataframe\">\n",
       "  <thead>\n",
       "    <tr style=\"text-align: right;\">\n",
       "      <th></th>\n",
       "      <th>ENSG00000000003</th>\n",
       "      <th>ENSG00000000005</th>\n",
       "      <th>ENSG00000000419</th>\n",
       "      <th>ENSG00000000457</th>\n",
       "      <th>ENSG00000000460</th>\n",
       "      <th>ENSG00000000938</th>\n",
       "      <th>ENSG00000000971</th>\n",
       "      <th>ENSG00000001036</th>\n",
       "      <th>ENSG00000001084</th>\n",
       "      <th>ENSG00000001167</th>\n",
       "      <th>...</th>\n",
       "      <th>ENSG00000273481</th>\n",
       "      <th>ENSG00000273483</th>\n",
       "      <th>ENSG00000273484</th>\n",
       "      <th>ENSG00000273485</th>\n",
       "      <th>ENSG00000273486</th>\n",
       "      <th>ENSG00000273487</th>\n",
       "      <th>ENSG00000273488</th>\n",
       "      <th>ENSG00000273489</th>\n",
       "      <th>ENSG00000273492</th>\n",
       "      <th>ENSG00000273493</th>\n",
       "    </tr>\n",
       "  </thead>\n",
       "  <tbody>\n",
       "    <tr>\n",
       "      <th>3-Breast-Her2-ampl</th>\n",
       "      <td>0</td>\n",
       "      <td>0</td>\n",
       "      <td>44</td>\n",
       "      <td>26</td>\n",
       "      <td>81</td>\n",
       "      <td>171</td>\n",
       "      <td>34</td>\n",
       "      <td>83</td>\n",
       "      <td>0</td>\n",
       "      <td>14</td>\n",
       "      <td>...</td>\n",
       "      <td>0</td>\n",
       "      <td>0</td>\n",
       "      <td>0</td>\n",
       "      <td>0</td>\n",
       "      <td>1</td>\n",
       "      <td>0</td>\n",
       "      <td>0</td>\n",
       "      <td>1</td>\n",
       "      <td>4</td>\n",
       "      <td>0</td>\n",
       "    </tr>\n",
       "    <tr>\n",
       "      <th>8-Breast-WT</th>\n",
       "      <td>0</td>\n",
       "      <td>0</td>\n",
       "      <td>14</td>\n",
       "      <td>1</td>\n",
       "      <td>98</td>\n",
       "      <td>99</td>\n",
       "      <td>0</td>\n",
       "      <td>107</td>\n",
       "      <td>0</td>\n",
       "      <td>5</td>\n",
       "      <td>...</td>\n",
       "      <td>0</td>\n",
       "      <td>0</td>\n",
       "      <td>0</td>\n",
       "      <td>0</td>\n",
       "      <td>0</td>\n",
       "      <td>0</td>\n",
       "      <td>0</td>\n",
       "      <td>0</td>\n",
       "      <td>0</td>\n",
       "      <td>0</td>\n",
       "    </tr>\n",
       "    <tr>\n",
       "      <th>10-Breast-Her2-ampl</th>\n",
       "      <td>0</td>\n",
       "      <td>0</td>\n",
       "      <td>16</td>\n",
       "      <td>14</td>\n",
       "      <td>18</td>\n",
       "      <td>25</td>\n",
       "      <td>0</td>\n",
       "      <td>62</td>\n",
       "      <td>4</td>\n",
       "      <td>13</td>\n",
       "      <td>...</td>\n",
       "      <td>0</td>\n",
       "      <td>0</td>\n",
       "      <td>0</td>\n",
       "      <td>0</td>\n",
       "      <td>0</td>\n",
       "      <td>0</td>\n",
       "      <td>0</td>\n",
       "      <td>0</td>\n",
       "      <td>0</td>\n",
       "      <td>0</td>\n",
       "    </tr>\n",
       "    <tr>\n",
       "      <th>Breast-100</th>\n",
       "      <td>0</td>\n",
       "      <td>0</td>\n",
       "      <td>8</td>\n",
       "      <td>0</td>\n",
       "      <td>17</td>\n",
       "      <td>4</td>\n",
       "      <td>0</td>\n",
       "      <td>19</td>\n",
       "      <td>0</td>\n",
       "      <td>0</td>\n",
       "      <td>...</td>\n",
       "      <td>0</td>\n",
       "      <td>0</td>\n",
       "      <td>0</td>\n",
       "      <td>0</td>\n",
       "      <td>0</td>\n",
       "      <td>0</td>\n",
       "      <td>0</td>\n",
       "      <td>0</td>\n",
       "      <td>0</td>\n",
       "      <td>0</td>\n",
       "    </tr>\n",
       "    <tr>\n",
       "      <th>15-Breast-Her2-ampl</th>\n",
       "      <td>17</td>\n",
       "      <td>0</td>\n",
       "      <td>9</td>\n",
       "      <td>4</td>\n",
       "      <td>0</td>\n",
       "      <td>49</td>\n",
       "      <td>0</td>\n",
       "      <td>40</td>\n",
       "      <td>0</td>\n",
       "      <td>10</td>\n",
       "      <td>...</td>\n",
       "      <td>0</td>\n",
       "      <td>0</td>\n",
       "      <td>0</td>\n",
       "      <td>0</td>\n",
       "      <td>0</td>\n",
       "      <td>0</td>\n",
       "      <td>0</td>\n",
       "      <td>0</td>\n",
       "      <td>0</td>\n",
       "      <td>0</td>\n",
       "    </tr>\n",
       "  </tbody>\n",
       "</table>\n",
       "<p>5 rows × 57736 columns</p>\n",
       "</div>"
      ],
      "text/plain": [
       "                     ENSG00000000003  ENSG00000000005  ENSG00000000419  \\\n",
       "3-Breast-Her2-ampl                 0                0               44   \n",
       "8-Breast-WT                        0                0               14   \n",
       "10-Breast-Her2-ampl                0                0               16   \n",
       "Breast-100                         0                0                8   \n",
       "15-Breast-Her2-ampl               17                0                9   \n",
       "\n",
       "                     ENSG00000000457  ENSG00000000460  ENSG00000000938  \\\n",
       "3-Breast-Her2-ampl                26               81              171   \n",
       "8-Breast-WT                        1               98               99   \n",
       "10-Breast-Her2-ampl               14               18               25   \n",
       "Breast-100                         0               17                4   \n",
       "15-Breast-Her2-ampl                4                0               49   \n",
       "\n",
       "                     ENSG00000000971  ENSG00000001036  ENSG00000001084  \\\n",
       "3-Breast-Her2-ampl                34               83                0   \n",
       "8-Breast-WT                        0              107                0   \n",
       "10-Breast-Her2-ampl                0               62                4   \n",
       "Breast-100                         0               19                0   \n",
       "15-Breast-Her2-ampl                0               40                0   \n",
       "\n",
       "                     ENSG00000001167  ...  ENSG00000273481  ENSG00000273483  \\\n",
       "3-Breast-Her2-ampl                14  ...                0                0   \n",
       "8-Breast-WT                        5  ...                0                0   \n",
       "10-Breast-Her2-ampl               13  ...                0                0   \n",
       "Breast-100                         0  ...                0                0   \n",
       "15-Breast-Her2-ampl               10  ...                0                0   \n",
       "\n",
       "                     ENSG00000273484  ENSG00000273485  ENSG00000273486  \\\n",
       "3-Breast-Her2-ampl                 0                0                1   \n",
       "8-Breast-WT                        0                0                0   \n",
       "10-Breast-Her2-ampl                0                0                0   \n",
       "Breast-100                         0                0                0   \n",
       "15-Breast-Her2-ampl                0                0                0   \n",
       "\n",
       "                     ENSG00000273487  ENSG00000273488  ENSG00000273489  \\\n",
       "3-Breast-Her2-ampl                 0                0                1   \n",
       "8-Breast-WT                        0                0                0   \n",
       "10-Breast-Her2-ampl                0                0                0   \n",
       "Breast-100                         0                0                0   \n",
       "15-Breast-Her2-ampl                0                0                0   \n",
       "\n",
       "                     ENSG00000273492  ENSG00000273493  \n",
       "3-Breast-Her2-ampl                 4                0  \n",
       "8-Breast-WT                        0                0  \n",
       "10-Breast-Her2-ampl                0                0  \n",
       "Breast-100                         0                0  \n",
       "15-Breast-Her2-ampl                0                0  \n",
       "\n",
       "[5 rows x 57736 columns]"
      ]
     },
     "execution_count": 2,
     "metadata": {},
     "output_type": "execute_result"
    }
   ],
   "source": [
    "# Pull in training data\n",
    "training_data = pd.read_csv('GSE68086_TEP_data_matrix.txt', sep='\\t',index_col=0).T\n",
    "training_data.head()"
   ]
  },
  {
   "cell_type": "code",
   "execution_count": 3,
   "metadata": {},
   "outputs": [],
   "source": [
    "# Extract cancer labels\n",
    "training_data[\"cancer\"] = list(training_data.index)\n",
    "training_data[\"cancer\"] = training_data.cancer.str.extract(r'(Breast|BrCa|CRC|GBM|NSCLC|Lung|Chol|Liver|HBC|Panc|Unknown|HD|Control)')\n",
    "training_data.loc[training_data.cancer ==\"Breast\",\"cancer\"] = \"BrCa\"\n",
    "training_data.loc[training_data.cancer==\"Lung\",\"cancer\"] = \"NSCLC\"\n",
    "training_data.loc[training_data.cancer==\"Chol\",\"cancer\"] = \"HBC\"\n",
    "training_data.loc[training_data.cancer==\"Liver\",\"cancer\"] = \"HBC\"\n",
    "training_data.loc[training_data.cancer==\"Panc\",\"cancer\"] = \"PAAD\"\n",
    "training_data.loc[training_data.cancer==\"Control\",\"cancer\"] = \"HD\""
   ]
  },
  {
   "cell_type": "code",
   "execution_count": 4,
   "metadata": {},
   "outputs": [
    {
     "data": {
      "text/plain": [
       "cancer\n",
       "BrCa       38\n",
       "CRC        44\n",
       "GBM        38\n",
       "HBC        12\n",
       "HD         54\n",
       "NSCLC      59\n",
       "PAAD       33\n",
       "Unknown     5\n",
       "Name: ENSG00000000003, dtype: int64"
      ]
     },
     "execution_count": 4,
     "metadata": {},
     "output_type": "execute_result"
    }
   ],
   "source": [
    "training_data.groupby(['cancer']).count()[\"ENSG00000000003\"]"
   ]
  },
  {
   "cell_type": "code",
   "execution_count": 5,
   "metadata": {},
   "outputs": [
    {
     "data": {
      "text/plain": [
       "(285, 57737)"
      ]
     },
     "execution_count": 5,
     "metadata": {},
     "output_type": "execute_result"
    }
   ],
   "source": [
    "training_data.shape"
   ]
  },
  {
   "cell_type": "code",
   "execution_count": 6,
   "metadata": {},
   "outputs": [],
   "source": [
    "# Fix random seed for reproducibility\n",
    "seed = 3\n",
    "np.random.seed(seed)"
   ]
  },
  {
   "cell_type": "code",
   "execution_count": 7,
   "metadata": {},
   "outputs": [],
   "source": [
    "# Exclude Unknown cases\n",
    "# Get labels for training data\n",
    "Y = training_data.cancer[training_data.cancer != \"Unknown\"] != \"HD\"\n",
    "\n",
    "# Get training data as numpy array\n",
    "X = training_data[training_data.cancer != \"Unknown\"].drop(['cancer'], axis=1).astype(float).values"
   ]
  },
  {
   "cell_type": "code",
   "execution_count": 8,
   "metadata": {},
   "outputs": [],
   "source": [
    "rus = RandomUnderSampler(1,random_state=seed)\n",
    "ros = RandomOverSampler(1,random_state=seed)"
   ]
  },
  {
   "cell_type": "code",
   "execution_count": 9,
   "metadata": {},
   "outputs": [],
   "source": [
    "# Set parameters for the Random Forest Model\n",
    "rfc = RandomForestClassifier(random_state=seed, n_estimators=100)"
   ]
  },
  {
   "cell_type": "code",
   "execution_count": 10,
   "metadata": {},
   "outputs": [],
   "source": [
    "# Set parameters for cross validation\n",
    "kfold = KFold(n_splits=5, shuffle=True, random_state=seed)"
   ]
  },
  {
   "cell_type": "code",
   "execution_count": 11,
   "metadata": {},
   "outputs": [],
   "source": [
    "# Split the data for cross-validation\n",
    "X_train, X_test, Y_train, Y_test = train_test_split(X, Y, test_size=0.3, random_state=seed)"
   ]
  },
  {
   "cell_type": "code",
   "execution_count": 12,
   "metadata": {},
   "outputs": [
    {
     "data": {
      "text/plain": [
       "(196, 57736)"
      ]
     },
     "execution_count": 12,
     "metadata": {},
     "output_type": "execute_result"
    }
   ],
   "source": [
    "# Determine shape of training data features for cross-validation\n",
    "X_train.shape"
   ]
  },
  {
   "cell_type": "code",
   "execution_count": 13,
   "metadata": {},
   "outputs": [
    {
     "data": {
      "text/plain": [
       "(196,)"
      ]
     },
     "execution_count": 13,
     "metadata": {},
     "output_type": "execute_result"
    }
   ],
   "source": [
    "# Determine shape of training data calls for cross-validation\n",
    "Y_train.shape"
   ]
  },
  {
   "cell_type": "code",
   "execution_count": 14,
   "metadata": {},
   "outputs": [
    {
     "name": "stdout",
     "output_type": "stream",
     "text": [
      "Counter({True: 162, False: 162})\n"
     ]
    }
   ],
   "source": [
    "# oversample\n",
    "X_over, Y_over = ros.fit_resample(X_train, Y_train)\n",
    "\n",
    "# summarize class distribution\n",
    "print(Counter(Y_over))"
   ]
  },
  {
   "cell_type": "code",
   "execution_count": 15,
   "metadata": {},
   "outputs": [
    {
     "data": {
      "text/plain": [
       "(324, 57736)"
      ]
     },
     "execution_count": 15,
     "metadata": {},
     "output_type": "execute_result"
    }
   ],
   "source": [
    "# Determine shape of oversampled training data features for cross-validation\n",
    "X_over.shape"
   ]
  },
  {
   "cell_type": "code",
   "execution_count": 16,
   "metadata": {},
   "outputs": [
    {
     "data": {
      "text/plain": [
       "(324,)"
      ]
     },
     "execution_count": 16,
     "metadata": {},
     "output_type": "execute_result"
    }
   ],
   "source": [
    "# Determine shape of oversampled training data features for cross-validation\n",
    "Y_over.shape"
   ]
  },
  {
   "cell_type": "code",
   "execution_count": 17,
   "metadata": {},
   "outputs": [],
   "source": [
    "#Print accuracy\n",
    "probabilities = cross_val_predict(rfc, X_over, Y_over, cv=kfold, method='predict_proba')\n"
   ]
  },
  {
   "cell_type": "code",
   "execution_count": 18,
   "metadata": {},
   "outputs": [],
   "source": [
    "def predict_classes(probabilities):\n",
    "    \"\"\"Predict class labels from probabilities\"\"\"\n",
    "    \n",
    "    predicted = np.array([list(a).index(max(list(a))) for a in list(probabilities)])\n",
    "    label_binarizer = preprocessing.LabelBinarizer()\n",
    "    label_binarizer.fit(range(max(predicted) + 1))\n",
    "    return label_binarizer.transform(predicted)"
   ]
  },
  {
   "cell_type": "code",
   "execution_count": 19,
   "metadata": {},
   "outputs": [
    {
     "name": "stdout",
     "output_type": "stream",
     "text": [
      "Cross validation accuracy:\n",
      "0.9660493827160493\n",
      "\n",
      "Cross validation classification report\n",
      "\n",
      "              precision    recall  f1-score   support\n",
      "\n",
      "       False       0.96      0.98      0.97       162\n",
      "        True       0.97      0.96      0.97       162\n",
      "\n",
      "    accuracy                           0.97       324\n",
      "   macro avg       0.97      0.97      0.97       324\n",
      "weighted avg       0.97      0.97      0.97       324\n",
      "\n"
     ]
    }
   ],
   "source": [
    "print('Cross validation accuracy:')\n",
    "print(metrics.accuracy_score(Y_over, predict_classes(probabilities)))\n",
    "print('\\nCross validation classification report\\n')\n",
    "print(metrics.classification_report(Y_over, predict_classes(probabilities)))"
   ]
  },
  {
   "cell_type": "code",
   "execution_count": 20,
   "metadata": {},
   "outputs": [
    {
     "data": {
      "image/png": "[encoded data removed]",
      "text/plain": [
       "<Figure size 432x288 with 1 Axes>"
      ]
     },
     "metadata": {
      "needs_background": "light"
     },
     "output_type": "display_data"
    }
   ],
   "source": [
    "# Plot ROC for Random Forest\n",
    "fpr, tpr, thresholds = metrics.roc_curve(Y_over, predict_classes(probabilities))\n",
    "plt.figure()\n",
    "lw = 2\n",
    "plt.plot(fpr, tpr, color='darkorange',\n",
    "         lw=lw, label='ROC curve (area = %0.2f)' % metrics.auc(fpr,tpr))\n",
    "plt.plot([0, 1], [0, 1], color='navy', lw=lw, linestyle='--')\n",
    "plt.xlim([0.0, 1.0])\n",
    "plt.ylim([0.0, 1.0])\n",
    "plt.xlabel('False Positive Rate')\n",
    "plt.ylabel('True Positive Rate')\n",
    "plt.title('Receiver operating characteristic - Random Forest Model')\n",
    "plt.legend(loc=\"lower right\")\n",
    "plt.show()"
   ]
  },
  {
   "cell_type": "code",
   "execution_count": 21,
   "metadata": {},
   "outputs": [
    {
     "data": {
      "text/plain": [
       "array([[0.48765432, 0.01234568],\n",
       "       [0.02160494, 0.47839506]])"
      ]
     },
     "execution_count": 21,
     "metadata": {},
     "output_type": "execute_result"
    }
   ],
   "source": [
    "# Plot confusion matrix\n",
    "metrics.confusion_matrix(Y_over, predict_classes(probabilities),normalize = \"all\")"
   ]
  },
  {
   "cell_type": "code",
   "execution_count": 22,
   "metadata": {},
   "outputs": [],
   "source": [
    "# Rebuild RFC model\n",
    "rfc_fit = rfc.fit(X_over, Y_over)"
   ]
  },
  {
   "cell_type": "code",
   "execution_count": 23,
   "metadata": {},
   "outputs": [
    {
     "data": {
      "image/png": "[encoded data removed]",
      "text/plain": [
       "<Figure size 432x288 with 1 Axes>"
      ]
     },
     "metadata": {
      "needs_background": "light"
     },
     "output_type": "display_data"
    },
    {
     "name": "stdout",
     "output_type": "stream",
     "text": [
      "The 18 most important features are: \n",
      "\n",
      "Index(['ENSG00000229164', 'ENSG00000075624', 'ENSG00000141524',\n",
      "       'ENSG00000148303', 'ENSG00000147168', 'ENSG00000178188',\n",
      "       'ENSG00000233184', 'ENSG00000102316', 'ENSG00000108946',\n",
      "       'ENSG00000100813', 'ENSG00000164292', 'ENSG00000163519',\n",
      "       'ENSG00000174175', 'ENSG00000185052', 'ENSG00000259207',\n",
      "       'ENSG00000151148', 'ENSG00000198478', 'ENSG00000104998'],\n",
      "      dtype='object')\n"
     ]
    }
   ],
   "source": [
    "# Create function to determine the feature importance \n",
    "importances = rfc_fit.feature_importances_\n",
    "indices = np.argsort(importances)[::-1]\n",
    "plt.figure()\n",
    "plt.title(\"Feature importances\")\n",
    "plt.bar(range(18),importances[indices][:18],color=\"r\", align=\"center\")\n",
    "plt.xticks(range(18),training_data.T.index[indices][:18],rotation = 90)\n",
    "plt.xlim([-1, 18])\n",
    "plt.show()\n",
    "print('The 18 most important features are: \\n')\n",
    "print(training_data.T.index[indices][:18])"
   ]
  },
  {
   "cell_type": "code",
   "execution_count": 24,
   "metadata": {},
   "outputs": [],
   "source": [
    "# Determine performance on test set\n",
    "test_prob = rfc_fit.predict_proba(X_test)"
   ]
  },
  {
   "cell_type": "code",
   "execution_count": 25,
   "metadata": {},
   "outputs": [
    {
     "name": "stdout",
     "output_type": "stream",
     "text": [
      "Cross validation accuracy:\n",
      "0.9285714285714286\n",
      "\n",
      "Cross validation classification report\n",
      "\n",
      "              precision    recall  f1-score   support\n",
      "\n",
      "       False       1.00      0.70      0.82        20\n",
      "        True       0.91      1.00      0.96        64\n",
      "\n",
      "    accuracy                           0.93        84\n",
      "   macro avg       0.96      0.85      0.89        84\n",
      "weighted avg       0.93      0.93      0.92        84\n",
      "\n"
     ]
    }
   ],
   "source": [
    "# Metrics for test set\n",
    "print('Cross validation accuracy:')\n",
    "print(metrics.accuracy_score(Y_test, predict_classes(test_prob)))\n",
    "print('\\nCross validation classification report\\n')\n",
    "print(metrics.classification_report(Y_test, predict_classes(test_prob)))\n"
   ]
  },
  {
   "cell_type": "code",
   "execution_count": 26,
   "metadata": {},
   "outputs": [
    {
     "data": {
      "image/png": "[encoded data removed]",
      "text/plain": [
       "<Figure size 432x288 with 1 Axes>"
      ]
     },
     "metadata": {
      "needs_background": "light"
     },
     "output_type": "display_data"
    }
   ],
   "source": [
    "# Plot ROC for Random Forest\n",
    "fpr, tpr, thresholds = metrics.roc_curve(Y_test, predict_classes(test_prob))\n",
    "plt.figure()\n",
    "lw = 2\n",
    "plt.plot(fpr, tpr, color='darkorange',\n",
    "         lw=lw, label='ROC curve (area = %0.2f)' % metrics.auc(fpr,tpr))\n",
    "plt.plot([0, 1], [0, 1], color='navy', lw=lw, linestyle='--')\n",
    "plt.xlim([0.0, 1.0])\n",
    "plt.ylim([0.0, 1.0])\n",
    "plt.xlabel('False Positive Rate')\n",
    "plt.ylabel('True Positive Rate')\n",
    "plt.title('Receiver operating characteristic - Random Forest Model')\n",
    "plt.legend(loc=\"lower right\")\n",
    "plt.show()"
   ]
  },
  {
   "cell_type": "code",
   "execution_count": 27,
   "metadata": {},
   "outputs": [
    {
     "data": {
      "text/plain": [
       "<sklearn.metrics._plot.confusion_matrix.ConfusionMatrixDisplay at 0x7f50d0fc8450>"
      ]
     },
     "execution_count": 27,
     "metadata": {},
     "output_type": "execute_result"
    },
    {
     "data": {
      "image/png": "[encoded data removed]",
      "text/plain": [
       "<Figure size 432x288 with 2 Axes>"
      ]
     },
     "metadata": {
      "needs_background": "light"
     },
     "output_type": "display_data"
    }
   ],
   "source": [
    "# Plot confusion matrix\n",
    "metrics.plot_confusion_matrix(rfc_fit,X_test,Y_test,normalize = \"all\")"
   ]
  }
 ],
 "metadata": {
  "kernelspec": {
   "display_name": "Python 3",
   "language": "python",
   "name": "python3"
  },
  "language_info": {
   "codemirror_mode": {
    "name": "ipython",
    "version": 3
   },
   "file_extension": ".py",
   "mimetype": "text/x-python",
   "name": "python",
   "nbconvert_exporter": "python",
   "pygments_lexer": "ipython3",
   "version": "3.7.6"
  }
 },
 "nbformat": 4,
 "nbformat_minor": 4
}
