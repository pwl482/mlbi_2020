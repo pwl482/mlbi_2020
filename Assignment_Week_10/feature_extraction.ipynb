{
 "cells": [
  {
   "cell_type": "code",
   "execution_count": 1,
   "metadata": {},
   "outputs": [],
   "source": [
    "from pyopenms import *\n",
    "import glob\n",
    "\n"
   ]
  },
  {
   "cell_type": "code",
   "execution_count": 2,
   "metadata": {},
   "outputs": [],
   "source": [
    "def msprocess (file):\n",
    "    'Takes the storage of an MS file and extracts features from them saving to the same location as .featureXML'\n",
    "    # Prepare data loading (save memory by only\n",
    "    # loading MS1 spectra into memory)\n",
    "    input_map = MSExperiment()\n",
    "    options = PeakFileOptions()\n",
    "    options.setMSLevels([1])\n",
    "    fh = MzXMLFile()\n",
    "    fh.setOptions(options)\n",
    "    \n",
    "    # Load data\n",
    "    fh.load(file, input_map)\n",
    "    print(input_map.getNrSpectra())\n",
    "    input_map.updateRanges()\n",
    "    \n",
    "    #configure feature finder\n",
    "    ff = FeatureFinder()\n",
    "    ff.setLogType(LogType.CMD)\n",
    "    name = \"centroided\"\n",
    "    features = FeatureMap()\n",
    "    seeds = FeatureMap()\n",
    "    params = FeatureFinder().getParameters(name)\n",
    "    ff.run(name, input_map, features, params, seeds)\n",
    "    features.setUniqueIds()\n",
    "    fh = FeatureXMLFile()\n",
    "    fh.store(file.replace('mzXML','')+'featureXML', features)\n",
    "    print(\"Found\", features.size(), \"features in\", file)\n",
    "    return"
   ]
  },
  {
   "cell_type": "code",
   "execution_count": 4,
   "metadata": {},
   "outputs": [
    {
     "name": "stdout",
     "output_type": "stream",
     "text": [
      "Processing  data/Class_L_L/PT44_20080605MvD16.mzXML\n",
      "3634\n",
      "Found 59307 features in data/Class_L_L/PT44_20080605MvD16.mzXML\n",
      "Processing  data/Class_L_L/PT20_20080507MvD24.mzXML\n",
      "4059\n",
      "Found 47879 features in data/Class_L_L/PT20_20080507MvD24.mzXML\n",
      "Processing  data/Class_L_L/PT32_20080605MvD08.mzXML\n",
      "3337\n",
      "Found 14363 features in data/Class_L_L/PT32_20080605MvD08.mzXML\n",
      "Processing  data/Class_L_L/PT16_20080507MvD16.mzXML\n",
      "4186\n",
      "Found 48366 features in data/Class_L_L/PT16_20080507MvD16.mzXML\n",
      "Processing  data/Class_L_L/PT34_20080520MvD26.mzXML\n",
      "4007\n",
      "Found 44611 features in data/Class_L_L/PT34_20080520MvD26.mzXML\n"
     ]
    }
   ],
   "source": [
    "Cl_L_Ldir = glob.glob('data/Class_L_L/*mzXML')\n",
    "for file in Cl_L_Ldir:\n",
    "    if 'DUPL' in file:\n",
    "        next\n",
    "    else:\n",
    "        print('Processing ', file)\n",
    "        msprocess (file)\n"
   ]
  },
  {
   "cell_type": "code",
   "execution_count": 7,
   "metadata": {},
   "outputs": [
    {
     "name": "stdout",
     "output_type": "stream",
     "text": [
      "Processing  data/Class_L_0/PT24_20080520MvD06.mzXML\n",
      "4119\n",
      "Found 46636 features in data/Class_L_0/PT24_20080520MvD06.mzXML\n",
      "Processing  data/Class_L_0/PT35_20080520MvD28.mzXML\n",
      "4019\n",
      "Found 39608 features in data/Class_L_0/PT35_20080520MvD28.mzXML\n",
      "Processing  data/Class_L_0/PT42_20080605MvD12.mzXML\n",
      "3480\n",
      "Found 27347 features in data/Class_L_0/PT42_20080605MvD12.mzXML\n"
     ]
    }
   ],
   "source": [
    "Cl_L_0dir = glob.glob('data/Class_L_0/*mzXML')\n",
    "for file in Cl_L_0dir:\n",
    "    if 'DUPL' in file:\n",
    "        next\n",
    "    else:\n",
    "        print('Processing ', file)\n",
    "        msprocess (file)"
   ]
  }
 ],
 "metadata": {
  "kernelspec": {
   "display_name": "Python 3",
   "language": "python",
   "name": "python3"
  },
  "language_info": {
   "codemirror_mode": {
    "name": "ipython",
    "version": 3
   },
   "file_extension": ".py",
   "mimetype": "text/x-python",
   "name": "python",
   "nbconvert_exporter": "python",
   "pygments_lexer": "ipython3",
   "version": "3.7.7"
  }
 },
 "nbformat": 4,
 "nbformat_minor": 4
}
