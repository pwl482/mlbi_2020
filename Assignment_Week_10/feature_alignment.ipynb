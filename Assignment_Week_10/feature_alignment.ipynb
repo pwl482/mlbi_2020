{
 "cells": [
  {
   "cell_type": "code",
   "execution_count": 14,
   "metadata": {},
   "outputs": [],
   "source": [
    "from pyopenms import *\n",
    "import glob\n"
   ]
  },
  {
   "cell_type": "code",
   "execution_count": 26,
   "metadata": {},
   "outputs": [
    {
     "name": "stdout",
     "output_type": "stream",
     "text": [
      "data/Class_L_L/PT16_20080507MvD16.featureXML data/Class_L_L/PT44_20080605MvD16.featureXML\n"
     ]
    }
   ],
   "source": [
    "#test: load two feature maps\n",
    "features = FeatureMap()\n",
    "features2 = FeatureMap()\n",
    "\n",
    "\n",
    "Cl_L_Ldir = glob.glob('data/Class_L_L/*featureXML')\n",
    "fh = FeatureXMLFile()\n",
    "print(Cl_L_Ldir[1], Cl_L_Ldir[2])\n",
    "fh.load(Cl_L_Ldir[1], features)\n",
    "fh.load(Cl_L_Ldir[2], features2)\n"
   ]
  },
  {
   "cell_type": "code",
   "execution_count": 24,
   "metadata": {},
   "outputs": [
    {
     "ename": "Exception",
     "evalue": "can not handle type of (<pyopenms.pyopenms_4.FeatureMap object at 0x7ff6a1ba4710>, <pyopenms.pyopenms_4.FeatureMap object at 0x7ff6a1ba4630>, <pyopenms.pyopenms_5.TransformationDescription object at 0x7ff6a1ba4890>)",
     "output_type": "error",
     "traceback": [
      "\u001b[0;31m---------------------------------------------------------------------------\u001b[0m",
      "\u001b[0;31mException\u001b[0m                                 Traceback (most recent call last)",
      "\u001b[0;32m<ipython-input-24-340de5b785c7>\u001b[0m in \u001b[0;36m<module>\u001b[0;34m\u001b[0m\n\u001b[1;32m      1\u001b[0m \u001b[0mma\u001b[0m \u001b[0;34m=\u001b[0m \u001b[0mMapAlignmentAlgorithmPoseClustering\u001b[0m\u001b[0;34m(\u001b[0m\u001b[0;34m)\u001b[0m\u001b[0;34m\u001b[0m\u001b[0;34m\u001b[0m\u001b[0m\n\u001b[1;32m      2\u001b[0m \u001b[0mtransfo\u001b[0m \u001b[0;34m=\u001b[0m \u001b[0mTransformationDescription\u001b[0m\u001b[0;34m(\u001b[0m\u001b[0;34m)\u001b[0m\u001b[0;34m\u001b[0m\u001b[0;34m\u001b[0m\u001b[0m\n\u001b[0;32m----> 3\u001b[0;31m \u001b[0mma\u001b[0m\u001b[0;34m.\u001b[0m\u001b[0malign\u001b[0m\u001b[0;34m(\u001b[0m\u001b[0mfeatures\u001b[0m\u001b[0;34m,\u001b[0m \u001b[0mfeatures2\u001b[0m \u001b[0;34m,\u001b[0m \u001b[0mtransfo\u001b[0m\u001b[0;34m)\u001b[0m\u001b[0;34m\u001b[0m\u001b[0;34m\u001b[0m\u001b[0m\n\u001b[0m",
      "\u001b[0;32mpyopenms/pyopenms_8.pyx\u001b[0m in \u001b[0;36mpyopenms.pyopenms_8.MapAlignmentAlgorithmPoseClustering.align\u001b[0;34m()\u001b[0m\n",
      "\u001b[0;31mException\u001b[0m: can not handle type of (<pyopenms.pyopenms_4.FeatureMap object at 0x7ff6a1ba4710>, <pyopenms.pyopenms_4.FeatureMap object at 0x7ff6a1ba4630>, <pyopenms.pyopenms_5.TransformationDescription object at 0x7ff6a1ba4890>)"
     ]
    }
   ],
   "source": [
    "#Do the alignment mapping - did not find out how to properly prepare input to ma.align:\n",
    "#see https://abibuilder.informatik.uni-tuebingen.de/archive/openms/Documentation/release/latest/html//TOPP_example_mapalignment.html\n",
    "#and the pyOpenMS manual\n",
    "ma = MapAlignmentAlgorithmPoseClustering()\n",
    "transfo = TransformationDescription()\n",
    "ma.align(features, transfo)"
   ]
  },
  {
   "cell_type": "code",
   "execution_count": 25,
   "metadata": {},
   "outputs": [
    {
     "name": "stdout",
     "output_type": "stream",
     "text": [
      "Help on TransformationDescription object:\n",
      "\n",
      "class TransformationDescription(builtins.object)\n",
      " |  Cython implementation of _TransformationDescription\n",
      " |  \n",
      " |  Methods defined here:\n",
      " |  \n",
      " |  __init__(...)\n",
      " |      Cython signature: void TransformationDescription()\n",
      " |  \n",
      " |  __reduce__ = __reduce_cython__(...)\n",
      " |  \n",
      " |  __setstate__ = __setstate_cython__(...)\n",
      " |  \n",
      " |  apply(...)\n",
      " |      Cython signature: double apply(double)\n",
      " |  \n",
      " |  fitModel(...)\n",
      " |  \n",
      " |  getDataPoints(...)\n",
      " |      Cython signature: libcpp_vector[TM_DataPoint] getDataPoints()\n",
      " |  \n",
      " |  getDeviations(...)\n",
      " |      Cython signature: void getDeviations(libcpp_vector[double] & diffs, bool do_apply, bool do_sort)\n",
      " |  \n",
      " |  getModelParameters(...)\n",
      " |      Cython signature: Param getModelParameters()\n",
      " |  \n",
      " |  getModelType(...)\n",
      " |      Cython signature: String getModelType()\n",
      " |  \n",
      " |  getStatistics(...)\n",
      " |      Cython signature: TransformationStatistics getStatistics()\n",
      " |  \n",
      " |  invert(...)\n",
      " |      Cython signature: void invert()\n",
      " |  \n",
      " |  setDataPoints(...)\n",
      " |  \n",
      " |  ----------------------------------------------------------------------\n",
      " |  Static methods defined here:\n",
      " |  \n",
      " |  __new__(*args, **kwargs) from builtins.type\n",
      " |      Create and return a new object.  See help(type) for accurate signature.\n",
      " |  \n",
      " |  getModelTypes = __static_TransformationDescription_getModelTypes(...)\n",
      " |      Cython signature: void getModelTypes(StringList result)\n",
      "\n"
     ]
    }
   ],
   "source": [
    "help(TransformationDescription())"
   ]
  },
  {
   "cell_type": "code",
   "execution_count": null,
   "metadata": {},
   "outputs": [],
   "source": []
  }
 ],
 "metadata": {
  "kernelspec": {
   "display_name": "Python 3",
   "language": "python",
   "name": "python3"
  },
  "language_info": {
   "codemirror_mode": {
    "name": "ipython",
    "version": 3
   },
   "file_extension": ".py",
   "mimetype": "text/x-python",
   "name": "python",
   "nbconvert_exporter": "python",
   "pygments_lexer": "ipython3",
   "version": "3.7.7"
  }
 },
 "nbformat": 4,
 "nbformat_minor": 4
}
