{
 "cells": [
  {
   "cell_type": "code",
   "execution_count": 5,
   "metadata": {},
   "outputs": [],
   "source": [
    "from pyopenms import *\n",
    "import glob\n",
    "from IPython.display import clear_output"
   ]
  },
  {
   "cell_type": "code",
   "execution_count": 2,
   "metadata": {},
   "outputs": [],
   "source": [
    "def msprocess (file):\n",
    "    'Takes the storage of an MS file and extracts features from them saving to the same location as .featureXML'\n",
    "    # Prepare data loading (save memory by only\n",
    "    # loading MS1 spectra into memory)\n",
    "    options = PeakFileOptions()\n",
    "    options.setMSLevels([1])\n",
    "    fh = MzXMLFile()\n",
    "    fh.setOptions(options)\n",
    "    \n",
    "    # Load data\n",
    "    input_map = MSExperiment()\n",
    "    print(\"loading \", file, \"...\")\n",
    "    fh.load(file, input_map)\n",
    "    print(\"# of spectra: \", input_map.getNrSpectra())\n",
    "    input_map.updateRanges()\n",
    "    \n",
    "    #configure feature finder\n",
    "    ff = FeatureFinder()\n",
    "    ff.setLogType(LogType.CMD)\n",
    "    name = \"centroided\"\n",
    "    features = FeatureMap()\n",
    "    seeds = FeatureMap()\n",
    "    params = FeatureFinder().getParameters(name)\n",
    "    print(\"run Feature Finder\")\n",
    "    ff.run(name, input_map, features, params, seeds)\n",
    "    features.setUniqueIds()\n",
    "    fh = FeatureXMLFile()\n",
    "    print(\"store \", file.replace('mzXML','')+'featureXML')\n",
    "    fh.store(file.replace('mzXML','')+'featureXML', features)\n",
    "    print(\"Found\", features.size(), \"features in\", file)\n",
    "    clear_output(wait=True)\n",
    "    return"
   ]
  },
  {
   "cell_type": "code",
   "execution_count": 9,
   "metadata": {},
   "outputs": [
    {
     "data": {
      "text/plain": [
       "['data/5_post_M_A_neg.mzXML',\n",
       " 'data/5_pre_M_A.mzXML',\n",
       " 'data/9_pre_M_A_neg.mzXML',\n",
       " 'data/2_pre_M_A.mzXML',\n",
       " 'data/5_post_M_A.mzXML',\n",
       " 'data/13_post_M_A_neg.mzXML',\n",
       " 'data/10_pre_F_A_neg.mzXML',\n",
       " 'data/9_post_M_A_neg.mzXML',\n",
       " 'data/13_post_M_A.mzXML',\n",
       " 'data/8_post_M_A_neg.mzXML',\n",
       " 'data/11_post_M_A_neg.mzXML',\n",
       " 'data/12_post_M_A.mzXML',\n",
       " 'data/2_post_M_A.mzXML',\n",
       " 'data/8_pre_M_A.mzXML',\n",
       " 'data/5_pre_M_A_neg.mzXML',\n",
       " 'data/13_pre_M_A_neg.mzXML',\n",
       " 'data/10_post_F_A.mzXML',\n",
       " 'data/7_post_F_A_neg.mzXML',\n",
       " 'data/6_pre_M_A_neg.mzXML',\n",
       " 'data/3_pre_F_A.mzXML',\n",
       " 'data/14_pre_M_A.mzXML',\n",
       " 'data/4_post_M_A.mzXML',\n",
       " 'data/3_pre_F_A_neg.mzXML',\n",
       " 'data/6_pre_M_A.mzXML',\n",
       " 'data/1_post_M_A.mzXML',\n",
       " 'data/9_post_M_A.mzXML',\n",
       " 'data/4_pre_M_A_neg.mzXML',\n",
       " 'data/Pool_pre_A.mzXML',\n",
       " 'data/8_post_M_A.mzXML',\n",
       " 'data/11_post_M_A.mzXML',\n",
       " 'data/4_post_M_A_neg.mzXML',\n",
       " 'data/14_post_M_A.mzXML',\n",
       " 'data/2_post_M_A_neg.mzXML',\n",
       " 'data/12_post_M_A_neg.mzXML',\n",
       " 'data/12_pre_M_A.mzXML',\n",
       " 'data/8_pre_M_A_neg.mzXML',\n",
       " 'data/3_post_F_A_neg.mzXML',\n",
       " 'data/10_pre_F_A.mzXML',\n",
       " 'data/14_post_M_A_neg.mzXML',\n",
       " 'data/12_pre_M_A_neg.mzXML',\n",
       " 'data/3_post_F_A.mzXML',\n",
       " 'data/7_post_F_A.mzXML',\n",
       " 'data/13_pre_M_A.mzXML',\n",
       " 'data/Pool_post_A.mzXML',\n",
       " 'data/14_pre_M_A_neg.mzXML',\n",
       " 'data/1_post_M_A_neg.mzXML',\n",
       " 'data/9_pre_M_A.mzXML',\n",
       " 'data/4_pre_M_A.mzXML',\n",
       " 'data/10_post_F_A_neg.mzXML']"
      ]
     },
     "execution_count": 9,
     "metadata": {},
     "output_type": "execute_result"
    }
   ],
   "source": [
    "[x for x in glob.glob('data/*mzXML') if \"pre\" in x or \"post\" in x ]"
   ]
  },
  {
   "cell_type": "code",
   "execution_count": null,
   "metadata": {},
   "outputs": [],
   "source": [
    "mzXMLdir = [x for x in glob.glob('data/*mzXML') if \"pre\" in x or \"post\" in x ]\n",
    "for file in mzXMLdir:\n",
    "    print('Processing ', file)\n",
    "    msprocess (file)"
   ]
  }
 ],
 "metadata": {
  "kernelspec": {
   "display_name": "Python 3",
   "language": "python",
   "name": "python3"
  },
  "language_info": {
   "codemirror_mode": {
    "name": "ipython",
    "version": 3
   },
   "file_extension": ".py",
   "mimetype": "text/x-python",
   "name": "python",
   "nbconvert_exporter": "python",
   "pygments_lexer": "ipython3",
   "version": "3.7.6"
  }
 },
 "nbformat": 4,
 "nbformat_minor": 4
}
