{
 "cells": [
  {
   "cell_type": "code",
   "execution_count": 35,
   "metadata": {},
   "outputs": [],
   "source": [
    "#Installation can take up to 10 min due to dependencies and conda environment\n",
    "if(!\"IlluminaHumanMethylation450kanno.ilmn12.hg19\"%in%installed.packages()) {\n",
    "    BiocManager::install(\"IlluminaHumanMethylation450kanno.ilmn12.hg19\")}\n",
    "options(stringsAsFactors = FALSE)"
   ]
  },
  {
   "cell_type": "code",
   "execution_count": 48,
   "metadata": {},
   "outputs": [],
   "source": [
    "annotatefeat = function(featurefile) {\n",
    "    library(IlluminaHumanMethylation450kanno.ilmn12.hg19)\n",
    "    feat = read.table(featurefile, sep='\\t', header=F, col.names=(c('cgID', 'Importance')), )\n",
    "    feat$Importance = gsub('Importance: ', '', feat$Importance)\n",
    "    ann = getAnnotation(IlluminaHumanMethylation450kanno.ilmn12.hg19)\n",
    "    ann=data.frame(cgID=rownames(ann), ann)\n",
    "    featann= merge(feat, ann[,c('cgID', 'UCSC_RefGene_Name', 'UCSC_RefGene_Accession')], by='cgID')\n",
    "    return(featann)\n",
    "    }"
   ]
  },
  {
   "cell_type": "code",
   "execution_count": 49,
   "metadata": {},
   "outputs": [
    {
     "data": {
      "text/html": [
       "<table>\n",
       "<thead><tr><th scope=col>cgID</th><th scope=col>Importance</th><th scope=col>UCSC_RefGene_Name</th><th scope=col>UCSC_RefGene_Accession</th></tr></thead>\n",
       "<tbody>\n",
       "\t<tr><td>cg00837308                                                                                                                                                                                                                                               </td><td>0.010000                                                                                                                                                                                                                                                 </td><td>                                                                                                                                                                                                                                                         </td><td>                                                                                                                                                                                                                                                         </td></tr>\n",
       "\t<tr><td>cg01421252                                                                                                                                                                                                                                               </td><td>0.010000                                                                                                                                                                                                                                                 </td><td>                                                                                                                                                                                                                                                         </td><td>                                                                                                                                                                                                                                                         </td></tr>\n",
       "\t<tr><td>cg05781984                                                                                                                                                                                                                                               </td><td>0.010000                                                                                                                                                                                                                                                 </td><td>TTBK1                                                                                                                                                                                                                                                    </td><td>NM_032538                                                                                                                                                                                                                                                </td></tr>\n",
       "\t<tr><td>cg15988320                                                                                                                                                                                                                                               </td><td>0.010000                                                                                                                                                                                                                                                 </td><td>PCDHGA4;PCDHGC3;PCDHGA12;PCDHGA11;PCDHGA11;PCDHGA9;PCDHGA1;PCDHGB1;PCDHGB6;PCDHGB3;PCDHGB7;PCDHGC5;PCDHGC5;PCDHGA6;PCDHGA8;PCDHGA10;PCDHGA5;PCDHGB4;PCDHGC4;PCDHGA3;PCDHGA2;PCDHGA7;PCDHGB2;PCDHGB5;PCDHGC3                                              </td><td>NM_018917;NM_002588;NM_003735;NM_032092;NM_018914;NM_018921;NM_018912;NM_018922;NM_018926;NM_018924;NM_018927;NM_018929;NM_032407;NM_018919;NM_032088;NM_018913;NM_018918;NM_003736;NM_018928;NM_018916;NM_018915;NM_018920;NM_018923;NM_018925;NM_032403</td></tr>\n",
       "\t<tr><td>cg16703956                                                                                                                                                                                                                                               </td><td>0.010000                                                                                                                                                                                                                                                 </td><td>SLC6A3                                                                                                                                                                                                                                                   </td><td>NM_001044                                                                                                                                                                                                                                                </td></tr>\n",
       "</tbody>\n",
       "</table>\n"
      ],
      "text/latex": [
       "\\begin{tabular}{r|llll}\n",
       " cgID & Importance & UCSC\\_RefGene\\_Name & UCSC\\_RefGene\\_Accession\\\\\n",
       "\\hline\n",
       "\t cg00837308                                                                                                                                                                                                                                                & 0.010000                                                                                                                                                                                                                                                  &                                                                                                                                                                                                                                                           &                                                                                                                                                                                                                                                          \\\\\n",
       "\t cg01421252                                                                                                                                                                                                                                                & 0.010000                                                                                                                                                                                                                                                  &                                                                                                                                                                                                                                                           &                                                                                                                                                                                                                                                          \\\\\n",
       "\t cg05781984                                                                                                                                                                                                                                                  & 0.010000                                                                                                                                                                                                                                                    & TTBK1                                                                                                                                                                                                                                                       & NM\\_032538                                                                                                                                                                                                                                                \\\\\n",
       "\t cg15988320                                                                                                                                                                                                                                                                                                  & 0.010000                                                                                                                                                                                                                                                                                                    & PCDHGA4;PCDHGC3;PCDHGA12;PCDHGA11;PCDHGA11;PCDHGA9;PCDHGA1;PCDHGB1;PCDHGB6;PCDHGB3;PCDHGB7;PCDHGC5;PCDHGC5;PCDHGA6;PCDHGA8;PCDHGA10;PCDHGA5;PCDHGB4;PCDHGC4;PCDHGA3;PCDHGA2;PCDHGA7;PCDHGB2;PCDHGB5;PCDHGC3                                                                                                 & NM\\_018917;NM\\_002588;NM\\_003735;NM\\_032092;NM\\_018914;NM\\_018921;NM\\_018912;NM\\_018922;NM\\_018926;NM\\_018924;NM\\_018927;NM\\_018929;NM\\_032407;NM\\_018919;NM\\_032088;NM\\_018913;NM\\_018918;NM\\_003736;NM\\_018928;NM\\_018916;NM\\_018915;NM\\_018920;NM\\_018923;NM\\_018925;NM\\_032403\\\\\n",
       "\t cg16703956                                                                                                                                                                                                                                                  & 0.010000                                                                                                                                                                                                                                                    & SLC6A3                                                                                                                                                                                                                                                      & NM\\_001044                                                                                                                                                                                                                                                \\\\\n",
       "\\end{tabular}\n"
      ],
      "text/markdown": [
       "\n",
       "| cgID | Importance | UCSC_RefGene_Name | UCSC_RefGene_Accession |\n",
       "|---|---|---|---|\n",
       "| cg00837308                                                                                                                                                                                                                                                | 0.010000                                                                                                                                                                                                                                                  |                                                                                                                                                                                                                                                           |                                                                                                                                                                                                                                                           |\n",
       "| cg01421252                                                                                                                                                                                                                                                | 0.010000                                                                                                                                                                                                                                                  |                                                                                                                                                                                                                                                           |                                                                                                                                                                                                                                                           |\n",
       "| cg05781984                                                                                                                                                                                                                                                | 0.010000                                                                                                                                                                                                                                                  | TTBK1                                                                                                                                                                                                                                                     | NM_032538                                                                                                                                                                                                                                                 |\n",
       "| cg15988320                                                                                                                                                                                                                                                | 0.010000                                                                                                                                                                                                                                                  | PCDHGA4;PCDHGC3;PCDHGA12;PCDHGA11;PCDHGA11;PCDHGA9;PCDHGA1;PCDHGB1;PCDHGB6;PCDHGB3;PCDHGB7;PCDHGC5;PCDHGC5;PCDHGA6;PCDHGA8;PCDHGA10;PCDHGA5;PCDHGB4;PCDHGC4;PCDHGA3;PCDHGA2;PCDHGA7;PCDHGB2;PCDHGB5;PCDHGC3                                               | NM_018917;NM_002588;NM_003735;NM_032092;NM_018914;NM_018921;NM_018912;NM_018922;NM_018926;NM_018924;NM_018927;NM_018929;NM_032407;NM_018919;NM_032088;NM_018913;NM_018918;NM_003736;NM_018928;NM_018916;NM_018915;NM_018920;NM_018923;NM_018925;NM_032403 |\n",
       "| cg16703956                                                                                                                                                                                                                                                | 0.010000                                                                                                                                                                                                                                                  | SLC6A3                                                                                                                                                                                                                                                    | NM_001044                                                                                                                                                                                                                                                 |\n",
       "\n"
      ],
      "text/plain": [
       "  cgID       Importance\n",
       "1 cg00837308 0.010000  \n",
       "2 cg01421252 0.010000  \n",
       "3 cg05781984 0.010000  \n",
       "4 cg15988320 0.010000  \n",
       "5 cg16703956 0.010000  \n",
       "  UCSC_RefGene_Name                                                                                                                                                                                          \n",
       "1                                                                                                                                                                                                            \n",
       "2                                                                                                                                                                                                            \n",
       "3 TTBK1                                                                                                                                                                                                      \n",
       "4 PCDHGA4;PCDHGC3;PCDHGA12;PCDHGA11;PCDHGA11;PCDHGA9;PCDHGA1;PCDHGB1;PCDHGB6;PCDHGB3;PCDHGB7;PCDHGC5;PCDHGC5;PCDHGA6;PCDHGA8;PCDHGA10;PCDHGA5;PCDHGB4;PCDHGC4;PCDHGA3;PCDHGA2;PCDHGA7;PCDHGB2;PCDHGB5;PCDHGC3\n",
       "5 SLC6A3                                                                                                                                                                                                     \n",
       "  UCSC_RefGene_Accession                                                                                                                                                                                                                                   \n",
       "1                                                                                                                                                                                                                                                          \n",
       "2                                                                                                                                                                                                                                                          \n",
       "3 NM_032538                                                                                                                                                                                                                                                \n",
       "4 NM_018917;NM_002588;NM_003735;NM_032092;NM_018914;NM_018921;NM_018912;NM_018922;NM_018926;NM_018924;NM_018927;NM_018929;NM_032407;NM_018919;NM_032088;NM_018913;NM_018918;NM_003736;NM_018928;NM_018916;NM_018915;NM_018920;NM_018923;NM_018925;NM_032403\n",
       "5 NM_001044                                                                                                                                                                                                                                                "
      ]
     },
     "metadata": {},
     "output_type": "display_data"
    }
   ],
   "source": [
    "RFCanno <- annotatefeat('RFC_selectfeat.tsv')\n",
    "RFCanno"
   ]
  },
  {
   "cell_type": "code",
   "execution_count": 50,
   "metadata": {},
   "outputs": [
    {
     "data": {
      "text/html": [
       "<table>\n",
       "<thead><tr><th scope=col>cgID</th><th scope=col>Importance</th><th scope=col>UCSC_RefGene_Name</th><th scope=col>UCSC_RefGene_Accession</th></tr></thead>\n",
       "<tbody>\n",
       "\t<tr><td>cg01030534  </td><td>0.001757    </td><td>FAM115A     </td><td>NM_014719   </td></tr>\n",
       "\t<tr><td>cg03221390  </td><td>0.001964    </td><td>            </td><td>            </td></tr>\n",
       "\t<tr><td>cg09827752  </td><td>0.001760    </td><td>HES5        </td><td>NM_001010926</td></tr>\n",
       "\t<tr><td>cg12208638  </td><td>0.002112    </td><td>ACTN3       </td><td>NM_001104   </td></tr>\n",
       "</tbody>\n",
       "</table>\n"
      ],
      "text/latex": [
       "\\begin{tabular}{r|llll}\n",
       " cgID & Importance & UCSC\\_RefGene\\_Name & UCSC\\_RefGene\\_Accession\\\\\n",
       "\\hline\n",
       "\t cg01030534     & 0.001757       & FAM115A        & NM\\_014719   \\\\\n",
       "\t cg03221390   & 0.001964     &              &             \\\\\n",
       "\t cg09827752     & 0.001760       & HES5           & NM\\_001010926\\\\\n",
       "\t cg12208638     & 0.002112       & ACTN3          & NM\\_001104   \\\\\n",
       "\\end{tabular}\n"
      ],
      "text/markdown": [
       "\n",
       "| cgID | Importance | UCSC_RefGene_Name | UCSC_RefGene_Accession |\n",
       "|---|---|---|---|\n",
       "| cg01030534   | 0.001757     | FAM115A      | NM_014719    |\n",
       "| cg03221390   | 0.001964     |              |              |\n",
       "| cg09827752   | 0.001760     | HES5         | NM_001010926 |\n",
       "| cg12208638   | 0.002112     | ACTN3        | NM_001104    |\n",
       "\n"
      ],
      "text/plain": [
       "  cgID       Importance UCSC_RefGene_Name UCSC_RefGene_Accession\n",
       "1 cg01030534 0.001757   FAM115A           NM_014719             \n",
       "2 cg03221390 0.001964                                           \n",
       "3 cg09827752 0.001760   HES5              NM_001010926          \n",
       "4 cg12208638 0.002112   ACTN3             NM_001104             "
      ]
     },
     "metadata": {},
     "output_type": "display_data"
    }
   ],
   "source": [
    "SVManno <- annotatefeat('SVM_selectfeat.tsv')\n",
    "SVManno"
   ]
  },
  {
   "cell_type": "code",
   "execution_count": null,
   "metadata": {},
   "outputs": [],
   "source": []
  }
 ],
 "metadata": {
  "kernelspec": {
   "display_name": "R",
   "language": "R",
   "name": "ir"
  },
  "language_info": {
   "codemirror_mode": "r",
   "file_extension": ".r",
   "mimetype": "text/x-r-source",
   "name": "R",
   "pygments_lexer": "r",
   "version": "3.6.1"
  }
 },
 "nbformat": 4,
 "nbformat_minor": 4
}
