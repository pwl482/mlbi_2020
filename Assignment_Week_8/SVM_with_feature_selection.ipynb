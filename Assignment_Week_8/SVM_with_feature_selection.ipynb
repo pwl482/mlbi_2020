{
 "cells": [
  {
   "cell_type": "markdown",
   "metadata": {},
   "source": [
    "# ML in Bioinf, Assignment Week 8, Team C\n",
    "## Support Vector Machine Classifier"
   ]
  },
  {
   "cell_type": "code",
   "execution_count": 8,
   "metadata": {},
   "outputs": [
    {
     "name": "stdout",
     "output_type": "stream",
     "text": [
      "Populating the interactive namespace from numpy and matplotlib\n",
      "The autoreload extension is already loaded. To reload it, use:\n",
      "  %reload_ext autoreload\n"
     ]
    },
    {
     "name": "stderr",
     "output_type": "stream",
     "text": [
      "/home/osboxes/anaconda3/lib/python3.7/site-packages/IPython/core/magics/pylab.py:160: UserWarning: pylab import has clobbered these variables: ['seed']\n",
      "`%matplotlib` prevents importing * from pylab and numpy\n",
      "  \"\\n`%matplotlib` prevents importing * from pylab and numpy\"\n"
     ]
    }
   ],
   "source": [
    "%pylab inline\n",
    "%load_ext autoreload\n",
    "%reload_ext autoreload\n",
    "%autoreload 2\n",
    "%matplotlib inline\n",
    "\n",
    "import pandas as pd\n",
    "import numpy as np\n",
    "from sklearn.model_selection import train_test_split, KFold, cross_val_predict, GridSearchCV\n",
    "from sklearn import preprocessing, metrics\n",
    "from sklearn.svm import SVC\n",
    "import matplotlib.pyplot as plt\n",
    "import seaborn as sns\n",
    "from collections import Counter\n",
    "from pymethylprocess.MethylationDataTypes import MethylationArray\n",
    "#from pymethylprocess.general_machine_learning import MachineLearning"
   ]
  },
  {
   "cell_type": "markdown",
   "metadata": {},
   "source": [
    "## Load the data pickle files"
   ]
  },
  {
   "cell_type": "code",
   "execution_count": 2,
   "metadata": {},
   "outputs": [],
   "source": [
    "# Pull in the data from the pickle files\n",
    "train_methyl_array=MethylationArray.from_pickle(\"train_val_test_sets/train_methyl_array.pkl\")\n",
    "val_methyl_array=MethylationArray.from_pickle(\"train_val_test_sets/val_methyl_array.pkl\")\n",
    "test_methyl_array=MethylationArray.from_pickle(\"train_val_test_sets/test_methyl_array.pkl\")"
   ]
  },
  {
   "cell_type": "code",
   "execution_count": 3,
   "metadata": {},
   "outputs": [
    {
     "name": "stdout",
     "output_type": "stream",
     "text": [
      "Shape:  (32, 6)\n"
     ]
    },
    {
     "data": {
      "text/html": [
       "<div>\n",
       "<style scoped>\n",
       "    .dataframe tbody tr th:only-of-type {\n",
       "        vertical-align: middle;\n",
       "    }\n",
       "\n",
       "    .dataframe tbody tr th {\n",
       "        vertical-align: top;\n",
       "    }\n",
       "\n",
       "    .dataframe thead th {\n",
       "        text-align: right;\n",
       "    }\n",
       "</style>\n",
       "<table border=\"1\" class=\"dataframe\">\n",
       "  <thead>\n",
       "    <tr style=\"text-align: right;\">\n",
       "      <th></th>\n",
       "      <th>X</th>\n",
       "      <th>Basename</th>\n",
       "      <th>AccNum</th>\n",
       "      <th>disease</th>\n",
       "      <th>TumorCellularity</th>\n",
       "      <th>filenames</th>\n",
       "    </tr>\n",
       "  </thead>\n",
       "  <tbody>\n",
       "    <tr>\n",
       "      <th>GSM3053784_200123460034_R02C02</th>\n",
       "      <td>15</td>\n",
       "      <td>geo_idats/GSM3053784_200123460034_R02C02</td>\n",
       "      <td>GSM3053784</td>\n",
       "      <td>prostate tumor</td>\n",
       "      <td>0.6</td>\n",
       "      <td>geo_idats/GSM3053784_200123460034_R02C02</td>\n",
       "    </tr>\n",
       "    <tr>\n",
       "      <th>GSM3053788_200123460034_R04C02</th>\n",
       "      <td>19</td>\n",
       "      <td>geo_idats/GSM3053788_200123460034_R04C02</td>\n",
       "      <td>GSM3053788</td>\n",
       "      <td>prostate tumor</td>\n",
       "      <td>0.6</td>\n",
       "      <td>geo_idats/GSM3053788_200123460034_R04C02</td>\n",
       "    </tr>\n",
       "    <tr>\n",
       "      <th>GSM3053804_200123460049_R06C02</th>\n",
       "      <td>35</td>\n",
       "      <td>geo_idats/GSM3053804_200123460049_R06C02</td>\n",
       "      <td>GSM3053804</td>\n",
       "      <td>prostate tumor</td>\n",
       "      <td>0.5</td>\n",
       "      <td>geo_idats/GSM3053804_200123460049_R06C02</td>\n",
       "    </tr>\n",
       "    <tr>\n",
       "      <th>GSM3053770_200121140086_R01C02</th>\n",
       "      <td>1</td>\n",
       "      <td>geo_idats/GSM3053770_200121140086_R01C02</td>\n",
       "      <td>GSM3053770</td>\n",
       "      <td>prostate tumor</td>\n",
       "      <td>0.6</td>\n",
       "      <td>geo_idats/GSM3053770_200121140086_R01C02</td>\n",
       "    </tr>\n",
       "    <tr>\n",
       "      <th>GSM3053805_200123460050_R01C01</th>\n",
       "      <td>36</td>\n",
       "      <td>geo_idats/GSM3053805_200123460050_R01C01</td>\n",
       "      <td>GSM3053805</td>\n",
       "      <td>Adjacent normal prostate tissue</td>\n",
       "      <td>0.0</td>\n",
       "      <td>geo_idats/GSM3053805_200123460050_R01C01</td>\n",
       "    </tr>\n",
       "  </tbody>\n",
       "</table>\n",
       "</div>"
      ],
      "text/plain": [
       "                                 X                                  Basename  \\\n",
       "GSM3053784_200123460034_R02C02  15  geo_idats/GSM3053784_200123460034_R02C02   \n",
       "GSM3053788_200123460034_R04C02  19  geo_idats/GSM3053788_200123460034_R04C02   \n",
       "GSM3053804_200123460049_R06C02  35  geo_idats/GSM3053804_200123460049_R06C02   \n",
       "GSM3053770_200121140086_R01C02   1  geo_idats/GSM3053770_200121140086_R01C02   \n",
       "GSM3053805_200123460050_R01C01  36  geo_idats/GSM3053805_200123460050_R01C01   \n",
       "\n",
       "                                    AccNum                          disease  \\\n",
       "GSM3053784_200123460034_R02C02  GSM3053784                   prostate tumor   \n",
       "GSM3053788_200123460034_R04C02  GSM3053788                   prostate tumor   \n",
       "GSM3053804_200123460049_R06C02  GSM3053804                   prostate tumor   \n",
       "GSM3053770_200121140086_R01C02  GSM3053770                   prostate tumor   \n",
       "GSM3053805_200123460050_R01C01  GSM3053805  Adjacent normal prostate tissue   \n",
       "\n",
       "                                TumorCellularity  \\\n",
       "GSM3053784_200123460034_R02C02               0.6   \n",
       "GSM3053788_200123460034_R04C02               0.6   \n",
       "GSM3053804_200123460049_R06C02               0.5   \n",
       "GSM3053770_200121140086_R01C02               0.6   \n",
       "GSM3053805_200123460050_R01C01               0.0   \n",
       "\n",
       "                                                               filenames  \n",
       "GSM3053784_200123460034_R02C02  geo_idats/GSM3053784_200123460034_R02C02  \n",
       "GSM3053788_200123460034_R04C02  geo_idats/GSM3053788_200123460034_R04C02  \n",
       "GSM3053804_200123460049_R06C02  geo_idats/GSM3053804_200123460049_R06C02  \n",
       "GSM3053770_200121140086_R01C02  geo_idats/GSM3053770_200121140086_R01C02  \n",
       "GSM3053805_200123460050_R01C01  geo_idats/GSM3053805_200123460050_R01C01  "
      ]
     },
     "execution_count": 3,
     "metadata": {},
     "output_type": "execute_result"
    }
   ],
   "source": [
    "print(\"Shape: \",train_methyl_array.pheno.shape)\n",
    "train_methyl_array.pheno.head()"
   ]
  },
  {
   "cell_type": "code",
   "execution_count": 4,
   "metadata": {},
   "outputs": [
    {
     "name": "stdout",
     "output_type": "stream",
     "text": [
      "Shape:  (32, 300000)\n"
     ]
    },
    {
     "data": {
      "text/html": [
       "<div>\n",
       "<style scoped>\n",
       "    .dataframe tbody tr th:only-of-type {\n",
       "        vertical-align: middle;\n",
       "    }\n",
       "\n",
       "    .dataframe tbody tr th {\n",
       "        vertical-align: top;\n",
       "    }\n",
       "\n",
       "    .dataframe thead th {\n",
       "        text-align: right;\n",
       "    }\n",
       "</style>\n",
       "<table border=\"1\" class=\"dataframe\">\n",
       "  <thead>\n",
       "    <tr style=\"text-align: right;\">\n",
       "      <th></th>\n",
       "      <th>cg21272897</th>\n",
       "      <th>cg14112997</th>\n",
       "      <th>cg19311470</th>\n",
       "      <th>cg17348244</th>\n",
       "      <th>cg16112880</th>\n",
       "      <th>cg22274196</th>\n",
       "      <th>cg13232075</th>\n",
       "      <th>cg05455372</th>\n",
       "      <th>cg03796003</th>\n",
       "      <th>cg02907150</th>\n",
       "      <th>...</th>\n",
       "      <th>cg16092773</th>\n",
       "      <th>cg02550537</th>\n",
       "      <th>cg19396360</th>\n",
       "      <th>cg05661149</th>\n",
       "      <th>cg02275004</th>\n",
       "      <th>cg17801295</th>\n",
       "      <th>cg17200204</th>\n",
       "      <th>cg13556079</th>\n",
       "      <th>cg11027822</th>\n",
       "      <th>cg04077199</th>\n",
       "    </tr>\n",
       "  </thead>\n",
       "  <tbody>\n",
       "    <tr>\n",
       "      <th>GSM3053784_200123460034_R02C02</th>\n",
       "      <td>0.126413</td>\n",
       "      <td>0.090671</td>\n",
       "      <td>0.036200</td>\n",
       "      <td>0.194413</td>\n",
       "      <td>0.933982</td>\n",
       "      <td>0.464108</td>\n",
       "      <td>0.040020</td>\n",
       "      <td>0.899537</td>\n",
       "      <td>0.905237</td>\n",
       "      <td>0.042547</td>\n",
       "      <td>...</td>\n",
       "      <td>0.055682</td>\n",
       "      <td>0.897989</td>\n",
       "      <td>0.879730</td>\n",
       "      <td>0.898669</td>\n",
       "      <td>0.851569</td>\n",
       "      <td>0.963505</td>\n",
       "      <td>0.124750</td>\n",
       "      <td>0.519406</td>\n",
       "      <td>0.906462</td>\n",
       "      <td>0.081812</td>\n",
       "    </tr>\n",
       "    <tr>\n",
       "      <th>GSM3053788_200123460034_R04C02</th>\n",
       "      <td>0.828755</td>\n",
       "      <td>0.094690</td>\n",
       "      <td>0.062429</td>\n",
       "      <td>0.149521</td>\n",
       "      <td>0.074252</td>\n",
       "      <td>0.065245</td>\n",
       "      <td>0.902605</td>\n",
       "      <td>0.342822</td>\n",
       "      <td>0.909766</td>\n",
       "      <td>0.557195</td>\n",
       "      <td>...</td>\n",
       "      <td>0.064142</td>\n",
       "      <td>0.901975</td>\n",
       "      <td>0.850015</td>\n",
       "      <td>0.889762</td>\n",
       "      <td>0.879558</td>\n",
       "      <td>0.972348</td>\n",
       "      <td>0.127265</td>\n",
       "      <td>0.494794</td>\n",
       "      <td>0.917515</td>\n",
       "      <td>0.065653</td>\n",
       "    </tr>\n",
       "    <tr>\n",
       "      <th>GSM3053804_200123460049_R06C02</th>\n",
       "      <td>0.159338</td>\n",
       "      <td>0.737365</td>\n",
       "      <td>0.054155</td>\n",
       "      <td>0.198386</td>\n",
       "      <td>0.727747</td>\n",
       "      <td>0.114876</td>\n",
       "      <td>0.799494</td>\n",
       "      <td>0.864268</td>\n",
       "      <td>0.916444</td>\n",
       "      <td>0.513756</td>\n",
       "      <td>...</td>\n",
       "      <td>0.087140</td>\n",
       "      <td>0.913121</td>\n",
       "      <td>0.900455</td>\n",
       "      <td>0.884328</td>\n",
       "      <td>0.849505</td>\n",
       "      <td>0.969136</td>\n",
       "      <td>0.154395</td>\n",
       "      <td>0.510867</td>\n",
       "      <td>0.888683</td>\n",
       "      <td>0.088893</td>\n",
       "    </tr>\n",
       "    <tr>\n",
       "      <th>GSM3053770_200121140086_R01C02</th>\n",
       "      <td>0.637441</td>\n",
       "      <td>0.809181</td>\n",
       "      <td>0.484038</td>\n",
       "      <td>0.399777</td>\n",
       "      <td>0.739164</td>\n",
       "      <td>0.063054</td>\n",
       "      <td>0.035755</td>\n",
       "      <td>0.879524</td>\n",
       "      <td>0.900003</td>\n",
       "      <td>0.447113</td>\n",
       "      <td>...</td>\n",
       "      <td>0.095685</td>\n",
       "      <td>0.900391</td>\n",
       "      <td>0.906811</td>\n",
       "      <td>0.890218</td>\n",
       "      <td>0.849407</td>\n",
       "      <td>0.966013</td>\n",
       "      <td>0.123674</td>\n",
       "      <td>0.463574</td>\n",
       "      <td>0.911717</td>\n",
       "      <td>0.086908</td>\n",
       "    </tr>\n",
       "    <tr>\n",
       "      <th>GSM3053805_200123460050_R01C01</th>\n",
       "      <td>0.458882</td>\n",
       "      <td>0.124505</td>\n",
       "      <td>0.617151</td>\n",
       "      <td>0.882812</td>\n",
       "      <td>0.065316</td>\n",
       "      <td>0.076621</td>\n",
       "      <td>0.566223</td>\n",
       "      <td>0.076057</td>\n",
       "      <td>0.868534</td>\n",
       "      <td>0.069848</td>\n",
       "      <td>...</td>\n",
       "      <td>0.066141</td>\n",
       "      <td>0.877608</td>\n",
       "      <td>0.899382</td>\n",
       "      <td>0.858017</td>\n",
       "      <td>0.831554</td>\n",
       "      <td>0.925353</td>\n",
       "      <td>0.115141</td>\n",
       "      <td>0.489797</td>\n",
       "      <td>0.881647</td>\n",
       "      <td>0.089516</td>\n",
       "    </tr>\n",
       "  </tbody>\n",
       "</table>\n",
       "<p>5 rows × 300000 columns</p>\n",
       "</div>"
      ],
      "text/plain": [
       "                                cg21272897  cg14112997  cg19311470  \\\n",
       "GSM3053784_200123460034_R02C02    0.126413    0.090671    0.036200   \n",
       "GSM3053788_200123460034_R04C02    0.828755    0.094690    0.062429   \n",
       "GSM3053804_200123460049_R06C02    0.159338    0.737365    0.054155   \n",
       "GSM3053770_200121140086_R01C02    0.637441    0.809181    0.484038   \n",
       "GSM3053805_200123460050_R01C01    0.458882    0.124505    0.617151   \n",
       "\n",
       "                                cg17348244  cg16112880  cg22274196  \\\n",
       "GSM3053784_200123460034_R02C02    0.194413    0.933982    0.464108   \n",
       "GSM3053788_200123460034_R04C02    0.149521    0.074252    0.065245   \n",
       "GSM3053804_200123460049_R06C02    0.198386    0.727747    0.114876   \n",
       "GSM3053770_200121140086_R01C02    0.399777    0.739164    0.063054   \n",
       "GSM3053805_200123460050_R01C01    0.882812    0.065316    0.076621   \n",
       "\n",
       "                                cg13232075  cg05455372  cg03796003  \\\n",
       "GSM3053784_200123460034_R02C02    0.040020    0.899537    0.905237   \n",
       "GSM3053788_200123460034_R04C02    0.902605    0.342822    0.909766   \n",
       "GSM3053804_200123460049_R06C02    0.799494    0.864268    0.916444   \n",
       "GSM3053770_200121140086_R01C02    0.035755    0.879524    0.900003   \n",
       "GSM3053805_200123460050_R01C01    0.566223    0.076057    0.868534   \n",
       "\n",
       "                                cg02907150  ...  cg16092773  cg02550537  \\\n",
       "GSM3053784_200123460034_R02C02    0.042547  ...    0.055682    0.897989   \n",
       "GSM3053788_200123460034_R04C02    0.557195  ...    0.064142    0.901975   \n",
       "GSM3053804_200123460049_R06C02    0.513756  ...    0.087140    0.913121   \n",
       "GSM3053770_200121140086_R01C02    0.447113  ...    0.095685    0.900391   \n",
       "GSM3053805_200123460050_R01C01    0.069848  ...    0.066141    0.877608   \n",
       "\n",
       "                                cg19396360  cg05661149  cg02275004  \\\n",
       "GSM3053784_200123460034_R02C02    0.879730    0.898669    0.851569   \n",
       "GSM3053788_200123460034_R04C02    0.850015    0.889762    0.879558   \n",
       "GSM3053804_200123460049_R06C02    0.900455    0.884328    0.849505   \n",
       "GSM3053770_200121140086_R01C02    0.906811    0.890218    0.849407   \n",
       "GSM3053805_200123460050_R01C01    0.899382    0.858017    0.831554   \n",
       "\n",
       "                                cg17801295  cg17200204  cg13556079  \\\n",
       "GSM3053784_200123460034_R02C02    0.963505    0.124750    0.519406   \n",
       "GSM3053788_200123460034_R04C02    0.972348    0.127265    0.494794   \n",
       "GSM3053804_200123460049_R06C02    0.969136    0.154395    0.510867   \n",
       "GSM3053770_200121140086_R01C02    0.966013    0.123674    0.463574   \n",
       "GSM3053805_200123460050_R01C01    0.925353    0.115141    0.489797   \n",
       "\n",
       "                                cg11027822  cg04077199  \n",
       "GSM3053784_200123460034_R02C02    0.906462    0.081812  \n",
       "GSM3053788_200123460034_R04C02    0.917515    0.065653  \n",
       "GSM3053804_200123460049_R06C02    0.888683    0.088893  \n",
       "GSM3053770_200121140086_R01C02    0.911717    0.086908  \n",
       "GSM3053805_200123460050_R01C01    0.881647    0.089516  \n",
       "\n",
       "[5 rows x 300000 columns]"
      ]
     },
     "execution_count": 4,
     "metadata": {},
     "output_type": "execute_result"
    }
   ],
   "source": [
    "print(\"Shape: \",train_methyl_array.beta.shape)\n",
    "train_methyl_array.beta.head()"
   ]
  },
  {
   "cell_type": "code",
   "execution_count": 5,
   "metadata": {},
   "outputs": [
    {
     "name": "stdout",
     "output_type": "stream",
     "text": [
      "Shape Test:  (9, 6) (9, 300000)\n",
      "Shape Val:  (5, 6) (5, 300000)\n"
     ]
    }
   ],
   "source": [
    "print(\"Shape Test: \",test_methyl_array.pheno.shape, test_methyl_array.beta.shape)\n",
    "print(\"Shape Val: \",val_methyl_array.pheno.shape, val_methyl_array.beta.shape)"
   ]
  },
  {
   "cell_type": "markdown",
   "metadata": {},
   "source": [
    "## Preprocess the cancer labels to 0 for normal and 1 for tumor"
   ]
  },
  {
   "cell_type": "code",
   "execution_count": 29,
   "metadata": {},
   "outputs": [
    {
     "name": "stdout",
     "output_type": "stream",
     "text": [
      "Train Shape:  (32, 300000)\n",
      "Test Shape:  (14, 300000)\n"
     ]
    }
   ],
   "source": [
    "# get the data out of the methylationarray object, encode the cancer/normal values to 1/0\n",
    "Train_Y = train_methyl_array.pheno[\"disease\"]\n",
    "Train_Y.at[Train_Y=='prostate tumor'] = 1\n",
    "Train_Y.at[Train_Y=='Adjacent normal prostate tissue'] = 0\n",
    "Train_X = train_methyl_array.beta\n",
    "\n",
    "Test_Y = test_methyl_array.pheno[\"disease\"]\n",
    "Test_Y.at[Test_Y=='prostate tumor'] = 1\n",
    "Test_Y.at[Test_Y=='Adjacent normal prostate tissue'] = 0\n",
    "Test_X = test_methyl_array.beta\n",
    "\n",
    "Val_Y = val_methyl_array.pheno[\"disease\"]\n",
    "Val_Y.at[Val_Y=='prostate tumor'] = 1\n",
    "Val_Y.at[Val_Y=='Adjacent normal prostate tissue'] = 0\n",
    "Val_X = val_methyl_array.beta\n",
    "\n",
    "# append validation to test set because we use cross validation\n",
    "Test_Y = Test_Y.append(Val_Y)\n",
    "Test_X = Test_X.append(Val_X)\n",
    "Train_Y = Train_Y.astype(int)\n",
    "Test_Y = Test_Y.astype(int)\n",
    "print(\"Train Shape: \",Train_X.shape)\n",
    "print(\"Test Shape: \",Test_X.shape)"
   ]
  },
  {
   "cell_type": "code",
   "execution_count": 32,
   "metadata": {},
   "outputs": [],
   "source": [
    "# Fix random seed for reproducibility\n",
    "seed = 3\n",
    "# np.random.seed(seed)"
   ]
  },
  {
   "cell_type": "code",
   "execution_count": 33,
   "metadata": {},
   "outputs": [],
   "source": [
    "# Set parameters for the SVM\n",
    "svmc = SVC(random_state=seed, kernel=\"linear\", probability=True)"
   ]
  },
  {
   "cell_type": "code",
   "execution_count": 34,
   "metadata": {},
   "outputs": [],
   "source": [
    "# Set parameters for cross validation\n",
    "kfold = KFold(n_splits=5, shuffle=True, random_state=seed)"
   ]
  },
  {
   "cell_type": "markdown",
   "metadata": {},
   "source": [
    "## Get the training accuracy and AUC using kfold cross-validation"
   ]
  },
  {
   "cell_type": "code",
   "execution_count": 35,
   "metadata": {},
   "outputs": [],
   "source": [
    "probabilities = cross_val_predict(svmc, Train_X, Train_Y, cv=kfold, method='predict_proba')"
   ]
  },
  {
   "cell_type": "code",
   "execution_count": 36,
   "metadata": {},
   "outputs": [],
   "source": [
    "def predict_classes(probabilities):\n",
    "    \"\"\"Predict class labels from probabilities\"\"\"\n",
    "    \n",
    "    predicted = np.array([list(a).index(max(list(a))) for a in list(probabilities)])\n",
    "    label_binarizer = preprocessing.LabelBinarizer()\n",
    "    label_binarizer.fit(range(max(predicted) + 1))\n",
    "    return label_binarizer.transform(predicted)"
   ]
  },
  {
   "cell_type": "code",
   "execution_count": 37,
   "metadata": {},
   "outputs": [
    {
     "name": "stdout",
     "output_type": "stream",
     "text": [
      "Cross validation accuracy:\n",
      "0.96875\n",
      "\n",
      "Cross validation classification report\n",
      "\n",
      "              precision    recall  f1-score   support\n",
      "\n",
      "           0       0.92      1.00      0.96        12\n",
      "           1       1.00      0.95      0.97        20\n",
      "\n",
      "    accuracy                           0.97        32\n",
      "   macro avg       0.96      0.97      0.97        32\n",
      "weighted avg       0.97      0.97      0.97        32\n",
      "\n",
      "\n",
      "Sensitivity:  0.95\n",
      "\n",
      "Specificity:  1.0\n"
     ]
    }
   ],
   "source": [
    "print('Cross validation accuracy:')\n",
    "print(metrics.accuracy_score(Train_Y, predict_classes(probabilities)))\n",
    "print('\\nCross validation classification report\\n')\n",
    "print(metrics.classification_report(Train_Y, predict_classes(probabilities)))\n",
    "tn, fp, fn, tp = metrics.confusion_matrix(Train_Y, predict_classes(probabilities)).ravel()\n",
    "print('\\nSensitivity: ',tp / (tp+fn))\n",
    "print('\\nSpecificity: ',tn / (tn+fp))"
   ]
  },
  {
   "cell_type": "code",
   "execution_count": 38,
   "metadata": {},
   "outputs": [
    {
     "data": {
      "image/png": "[encoded data removed]",
      "text/plain": [
       "<Figure size 432x288 with 1 Axes>"
      ]
     },
     "metadata": {
      "needs_background": "light"
     },
     "output_type": "display_data"
    }
   ],
   "source": [
    "# Plot ROC for SVM\n",
    "fpr, tpr, thresholds = metrics.roc_curve(Train_Y, predict_classes(probabilities))\n",
    "plt.figure()\n",
    "lw = 2\n",
    "plt.plot(fpr, tpr, color='darkorange',\n",
    "         lw=lw, label='ROC curve (area = %0.2f)' % metrics.auc(fpr,tpr))\n",
    "plt.plot([0, 1], [0, 1], color='navy', lw=lw, linestyle='--')\n",
    "plt.xlim([0.0, 1.0])\n",
    "plt.ylim([0.0, 1.0])\n",
    "plt.xlabel('False Positive Rate')\n",
    "plt.ylabel('True Positive Rate')\n",
    "plt.title('Receiver operating characteristic - SVM')\n",
    "plt.legend(loc=\"lower right\")\n",
    "plt.show()"
   ]
  },
  {
   "cell_type": "code",
   "execution_count": 39,
   "metadata": {},
   "outputs": [
    {
     "data": {
      "image/png": "[encoded data removed]",
      "text/plain": [
       "<Figure size 288x288 with 2 Axes>"
      ]
     },
     "metadata": {
      "needs_background": "light"
     },
     "output_type": "display_data"
    }
   ],
   "source": [
    "# Plot confusion matrix\n",
    "confusion_matrix = metrics.confusion_matrix(Train_Y, predict_classes(probabilities))\n",
    "class_names = sorted(Train_Y.unique())\n",
    "df_cm = pd.DataFrame(\n",
    "        confusion_matrix, index=class_names, columns=class_names, \n",
    "    )\n",
    "fig = plt.figure(figsize=(4,4))\n",
    "heatmap = sns.heatmap(df_cm, annot=True, fmt=\"d\")\n",
    "plt.ylabel('True label')\n",
    "plt.xlabel('Predicted label')\n",
    "plt.show()"
   ]
  },
  {
   "cell_type": "markdown",
   "metadata": {},
   "source": [
    "## Show the 18 most important features"
   ]
  },
  {
   "cell_type": "code",
   "execution_count": 40,
   "metadata": {},
   "outputs": [],
   "source": [
    "# Rebuild SVM model\n",
    "svmc_fit = svmc.fit(Train_X, Train_Y)"
   ]
  },
  {
   "cell_type": "code",
   "execution_count": 41,
   "metadata": {},
   "outputs": [
    {
     "data": {
      "image/png": "[encoded data removed]",
      "text/plain": [
       "<Figure size 432x288 with 1 Axes>"
      ]
     },
     "metadata": {
      "needs_background": "light"
     },
     "output_type": "display_data"
    },
    {
     "name": "stdout",
     "output_type": "stream",
     "text": [
      "The 18 most important features are: \n",
      "\n",
      "Index(['cg12208638', 'cg03221390', 'cg09827752', 'cg01030534', 'cg05509228',\n",
      "       'cg07519235', 'cg16908938', 'cg06193597', 'cg09489281', 'cg24922143',\n",
      "       'cg20430847', 'cg12539796', 'cg09296001', 'cg23255835', 'cg14151783',\n",
      "       'cg23428985', 'cg13506653', 'cg20218135'],\n",
      "      dtype='object')\n"
     ]
    }
   ],
   "source": [
    "# Create function to determine the feature importance \n",
    "importances = svmc_fit.coef_[0]\n",
    "indices = np.argsort(importances)[::-1]\n",
    "plt.figure()\n",
    "plt.title(\"Feature importances\")\n",
    "plt.bar(range(18),importances[indices][:18],color=\"r\", align=\"center\")\n",
    "plt.xticks(range(18),Train_X.T.index[indices][:18],rotation = 90)\n",
    "plt.xlim([-1, 18])\n",
    "plt.show()\n",
    "print('The 18 most important features are: \\n')\n",
    "print(Train_X.T.index[indices][:18])"
   ]
  },
  {
   "cell_type": "markdown",
   "metadata": {},
   "source": [
    "## Get the test data accuracy and AUC"
   ]
  },
  {
   "cell_type": "code",
   "execution_count": 42,
   "metadata": {},
   "outputs": [],
   "source": [
    "# Determine performance on test set\n",
    "test_prob = svmc_fit.predict_proba(Test_X)"
   ]
  },
  {
   "cell_type": "code",
   "execution_count": 43,
   "metadata": {},
   "outputs": [
    {
     "name": "stdout",
     "output_type": "stream",
     "text": [
      "Cross validation accuracy:\n",
      "1.0\n",
      "\n",
      "Cross validation classification report\n",
      "\n",
      "              precision    recall  f1-score   support\n",
      "\n",
      "           0       1.00      1.00      1.00         4\n",
      "           1       1.00      1.00      1.00        10\n",
      "\n",
      "    accuracy                           1.00        14\n",
      "   macro avg       1.00      1.00      1.00        14\n",
      "weighted avg       1.00      1.00      1.00        14\n",
      "\n",
      "\n",
      "Sensitivity:  1.0\n",
      "\n",
      "Specificity:  1.0\n"
     ]
    }
   ],
   "source": [
    "# Metrics for test set\n",
    "print('Cross validation accuracy:')\n",
    "print(metrics.accuracy_score(Test_Y, predict_classes(test_prob)))\n",
    "print('\\nCross validation classification report\\n')\n",
    "print(metrics.classification_report(Test_Y, predict_classes(test_prob)))\n",
    "tn, fp, fn, tp = metrics.confusion_matrix(Test_Y, predict_classes(test_prob)).ravel()\n",
    "print('\\nSensitivity: ',tp / (tp+fn))\n",
    "print('\\nSpecificity: ',tn / (tn+fp))"
   ]
  },
  {
   "cell_type": "code",
   "execution_count": 44,
   "metadata": {},
   "outputs": [
    {
     "data": {
      "image/png": "[encoded data removed]",
      "text/plain": [
       "<Figure size 432x288 with 1 Axes>"
      ]
     },
     "metadata": {
      "needs_background": "light"
     },
     "output_type": "display_data"
    }
   ],
   "source": [
    "# Plot ROC for SVM\n",
    "fpr, tpr, thresholds = metrics.roc_curve(Test_Y, predict_classes(test_prob))\n",
    "plt.figure()\n",
    "lw = 2\n",
    "plt.plot(fpr, tpr, color='darkorange',\n",
    "         lw=lw, label='ROC curve (area = %0.2f)' % metrics.auc(fpr,tpr))\n",
    "plt.plot([0, 1], [0, 1], color='navy', lw=lw, linestyle='--')\n",
    "plt.xlim([0.0, 1.0])\n",
    "plt.ylim([0.0, 1.0])\n",
    "plt.xlabel('False Positive Rate')\n",
    "plt.ylabel('True Positive Rate')\n",
    "plt.title('Receiver operating characteristic - SVM')\n",
    "plt.legend(loc=\"lower right\")\n",
    "plt.show()"
   ]
  },
  {
   "cell_type": "code",
   "execution_count": 45,
   "metadata": {},
   "outputs": [
    {
     "data": {
      "image/png": "[encoded data removed]",
      "text/plain": [
       "<Figure size 288x288 with 2 Axes>"
      ]
     },
     "metadata": {
      "needs_background": "light"
     },
     "output_type": "display_data"
    }
   ],
   "source": [
    "# Plot confusion matrix\n",
    "confusion_matrix = metrics.confusion_matrix(Test_Y, predict_classes(test_prob))\n",
    "class_names = sorted(Test_Y.unique())\n",
    "df_cm = pd.DataFrame(\n",
    "        confusion_matrix, index=class_names, columns=class_names, \n",
    "    )\n",
    "fig = plt.figure(figsize=(4,4))\n",
    "heatmap = sns.heatmap(df_cm, annot=True, fmt=\"d\")\n",
    "plt.ylabel('True label')\n",
    "plt.xlabel('Predicted label')\n",
    "plt.show()"
   ]
  },
  {
   "cell_type": "markdown",
   "metadata": {},
   "source": [
    "## Get testing accuracy again using feature selection of \"r\" features"
   ]
  },
  {
   "cell_type": "code",
   "execution_count": 46,
   "metadata": {},
   "outputs": [
    {
     "name": "stdout",
     "output_type": "stream",
     "text": [
      "4\n"
     ]
    }
   ],
   "source": [
    "# takes a while\n",
    "maxtrain = 0\n",
    "maxtest = 0\n",
    "maxr = 0\n",
    "for r in range(1, 50, 1):\n",
    "    Train_X_select = np.take(Train_X, indices[:r], 1)\n",
    "    svmc_fit_select = svmc.fit(Train_X_select, Train_Y)\n",
    "    probabilities_select = cross_val_predict(svmc, Train_X_select, Train_Y, cv=kfold, method='predict_proba')\n",
    "    acctrain = metrics.accuracy_score(Train_Y, predict_classes(probabilities_select))\n",
    "    Test_X_select = np.take(Test_X, indices[:r], 1)\n",
    "    test_prob_select = svmc_fit_select.predict_proba(Test_X_select)\n",
    "    acctest =  metrics.accuracy_score(Test_Y, predict_classes(test_prob_select))\n",
    "    if acctrain > maxtrain:\n",
    "        if acctest > maxtest:\n",
    "            maxtrain = acctrain \n",
    "            maxtest = acctest\n",
    "            maxr = r\n",
    "print(maxr)"
   ]
  },
  {
   "cell_type": "code",
   "execution_count": 60,
   "metadata": {},
   "outputs": [],
   "source": [
    "r = 4"
   ]
  },
  {
   "cell_type": "code",
   "execution_count": 61,
   "metadata": {},
   "outputs": [
    {
     "name": "stdout",
     "output_type": "stream",
     "text": [
      "The 18 most important features are: \n",
      "\n",
      "cg12208638 Importance: 0.002112\n",
      "cg03221390 Importance: 0.001964\n",
      "cg09827752 Importance: 0.001760\n",
      "cg01030534 Importance: 0.001757\n"
     ]
    }
   ],
   "source": [
    "print('The 18 most important features are: \\n')\n",
    "for i in range(r):\n",
    "    print(Train_X.T.index[indices][i], \"Importance: {:.6f}\".format(importances[indices][i]))"
   ]
  },
  {
   "cell_type": "code",
   "execution_count": 62,
   "metadata": {},
   "outputs": [],
   "source": [
    "# Rebuild SVM model\n",
    "Train_X_select = np.take(Train_X, indices[:r], 1)\n",
    "svmc_fit_select = svmc.fit(Train_X_select, Train_Y)"
   ]
  },
  {
   "cell_type": "code",
   "execution_count": 63,
   "metadata": {},
   "outputs": [
    {
     "name": "stdout",
     "output_type": "stream",
     "text": [
      "Cross validation accuracy:\n",
      "1.0\n",
      "\n",
      "Cross validation classification report\n",
      "\n",
      "              precision    recall  f1-score   support\n",
      "\n",
      "           0       1.00      1.00      1.00        12\n",
      "           1       1.00      1.00      1.00        20\n",
      "\n",
      "    accuracy                           1.00        32\n",
      "   macro avg       1.00      1.00      1.00        32\n",
      "weighted avg       1.00      1.00      1.00        32\n",
      "\n",
      "\n",
      "Sensitivity:  1.0\n",
      "\n",
      "Specificity:  1.0\n"
     ]
    }
   ],
   "source": [
    "#Print accuracy\n",
    "probabilities_select = cross_val_predict(svmc, Train_X_select, Train_Y, cv=kfold, method='predict_proba')\n",
    "print('Cross validation accuracy:')\n",
    "print(metrics.accuracy_score(Train_Y, predict_classes(probabilities_select)))\n",
    "print('\\nCross validation classification report\\n')\n",
    "print(metrics.classification_report(Train_Y, predict_classes(probabilities_select)))\n",
    "tn, fp, fn, tp = metrics.confusion_matrix(Train_Y, predict_classes(probabilities_select)).ravel()\n",
    "print('\\nSensitivity: ',tp / (tp+fn))\n",
    "print('\\nSpecificity: ',tn / (tn+fp))"
   ]
  },
  {
   "cell_type": "code",
   "execution_count": 64,
   "metadata": {},
   "outputs": [
    {
     "data": {
      "image/png": "[encoded data removed]",
      "text/plain": [
       "<Figure size 432x288 with 1 Axes>"
      ]
     },
     "metadata": {
      "needs_background": "light"
     },
     "output_type": "display_data"
    }
   ],
   "source": [
    "# Plot ROC for SVM\n",
    "fpr, tpr, thresholds = metrics.roc_curve(Train_Y, predict_classes(probabilities_select))\n",
    "plt.figure()\n",
    "lw = 2\n",
    "plt.plot(fpr, tpr, color='darkorange',\n",
    "         lw=lw, label='ROC curve (area = %0.2f)' % metrics.auc(fpr,tpr))\n",
    "plt.plot([0, 1], [0, 1], color='navy', lw=lw, linestyle='--')\n",
    "plt.xlim([0.0, 1.0])\n",
    "plt.ylim([0.0, 1.0])\n",
    "plt.xlabel('False Positive Rate')\n",
    "plt.ylabel('True Positive Rate')\n",
    "plt.title('Receiver operating characteristic - SVM')\n",
    "plt.legend(loc=\"lower right\")\n",
    "plt.show()"
   ]
  },
  {
   "cell_type": "code",
   "execution_count": 65,
   "metadata": {},
   "outputs": [
    {
     "data": {
      "image/png": "[encoded data removed]",
      "text/plain": [
       "<Figure size 288x288 with 2 Axes>"
      ]
     },
     "metadata": {
      "needs_background": "light"
     },
     "output_type": "display_data"
    }
   ],
   "source": [
    "# Plot confusion matrix\n",
    "confusion_matrix = metrics.confusion_matrix(Train_Y, predict_classes(probabilities_select))\n",
    "class_names = sorted(Train_Y.unique())\n",
    "df_cm = pd.DataFrame(\n",
    "        confusion_matrix, index=class_names, columns=class_names, \n",
    "    )\n",
    "fig = plt.figure(figsize=(4,4))\n",
    "heatmap = sns.heatmap(df_cm, annot=True, fmt=\"d\")\n",
    "plt.ylabel('True label')\n",
    "plt.xlabel('Predicted label')\n",
    "plt.show()"
   ]
  },
  {
   "cell_type": "markdown",
   "metadata": {},
   "source": [
    "# Evaluate the feature reduced performance on the test set"
   ]
  },
  {
   "cell_type": "code",
   "execution_count": 66,
   "metadata": {},
   "outputs": [],
   "source": [
    "# Determine performance on test set\n",
    "Test_X_select = np.take(Test_X, indices[:r], 1)\n",
    "test_prob_select = svmc_fit_select.predict_proba(Test_X_select)"
   ]
  },
  {
   "cell_type": "code",
   "execution_count": 68,
   "metadata": {},
   "outputs": [
    {
     "name": "stdout",
     "output_type": "stream",
     "text": [
      "Cross validation accuracy:\n",
      "1.0\n",
      "\n",
      "Cross validation classification report\n",
      "\n",
      "              precision    recall  f1-score   support\n",
      "\n",
      "           0       1.00      1.00      1.00         4\n",
      "           1       1.00      1.00      1.00        10\n",
      "\n",
      "    accuracy                           1.00        14\n",
      "   macro avg       1.00      1.00      1.00        14\n",
      "weighted avg       1.00      1.00      1.00        14\n",
      "\n",
      "\n",
      "Sensitivity:  1.0\n",
      "\n",
      "Specificity:  1.0\n"
     ]
    }
   ],
   "source": [
    "# Metrics for test set\n",
    "print('Cross validation accuracy:')\n",
    "print(metrics.accuracy_score(Test_Y, predict_classes(test_prob_select)))\n",
    "print('\\nCross validation classification report\\n')\n",
    "print(metrics.classification_report(Test_Y, predict_classes(test_prob_select)))\n",
    "tn, fp, fn, tp = metrics.confusion_matrix(Test_Y, predict_classes(test_prob_select)).ravel()\n",
    "print('\\nSensitivity: ',tp / (tp+fn))\n",
    "print('\\nSpecificity: ',tn / (tn+fp))"
   ]
  },
  {
   "cell_type": "code",
   "execution_count": 69,
   "metadata": {},
   "outputs": [
    {
     "data": {
      "image/png": "[encoded data removed]",
      "text/plain": [
       "<Figure size 432x288 with 1 Axes>"
      ]
     },
     "metadata": {
      "needs_background": "light"
     },
     "output_type": "display_data"
    }
   ],
   "source": [
    "# Plot ROC for SVM\n",
    "fpr, tpr, thresholds = metrics.roc_curve(Test_Y, predict_classes(test_prob_select))\n",
    "plt.figure()\n",
    "lw = 2\n",
    "plt.plot(fpr, tpr, color='darkorange',\n",
    "         lw=lw, label='ROC curve (area = %0.2f)' % metrics.auc(fpr,tpr))\n",
    "plt.plot([0, 1], [0, 1], color='navy', lw=lw, linestyle='--')\n",
    "plt.xlim([0.0, 1.0])\n",
    "plt.ylim([0.0, 1.0])\n",
    "plt.xlabel('False Positive Rate')\n",
    "plt.ylabel('True Positive Rate')\n",
    "plt.title('Receiver operating characteristic - SVM')\n",
    "plt.legend(loc=\"lower right\")\n",
    "plt.show()"
   ]
  },
  {
   "cell_type": "code",
   "execution_count": 70,
   "metadata": {},
   "outputs": [
    {
     "data": {
      "image/png": "[encoded data removed]",
      "text/plain": [
       "<Figure size 288x288 with 2 Axes>"
      ]
     },
     "metadata": {
      "needs_background": "light"
     },
     "output_type": "display_data"
    }
   ],
   "source": [
    "# Plot confusion matrix\n",
    "confusion_matrix = metrics.confusion_matrix(Test_Y, predict_classes(test_prob_select))\n",
    "class_names = sorted(Test_Y.unique())\n",
    "df_cm = pd.DataFrame(\n",
    "        confusion_matrix, index=class_names, columns=class_names, \n",
    "    )\n",
    "fig = plt.figure(figsize=(4,4))\n",
    "heatmap = sns.heatmap(df_cm, annot=True, fmt=\"d\")\n",
    "plt.ylabel('True label')\n",
    "plt.xlabel('Predicted label')\n",
    "plt.show()"
   ]
  }
 ],
 "metadata": {
  "kernelspec": {
   "display_name": "Python 3",
   "language": "python",
   "name": "python3"
  },
  "language_info": {
   "codemirror_mode": {
    "name": "ipython",
    "version": 3
   },
   "file_extension": ".py",
   "mimetype": "text/x-python",
   "name": "python",
   "nbconvert_exporter": "python",
   "pygments_lexer": "ipython3",
   "version": "3.7.6"
  }
 },
 "nbformat": 4,
 "nbformat_minor": 4
}
