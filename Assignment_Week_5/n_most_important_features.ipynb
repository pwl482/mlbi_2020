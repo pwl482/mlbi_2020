{
 "cells": [
  {
   "cell_type": "code",
   "execution_count": 76,
   "metadata": {},
   "outputs": [
    {
     "name": "stdout",
     "output_type": "stream",
     "text": [
      "All packages successfully loaded\n"
     ]
    }
   ],
   "source": [
    "import numpy as np\n",
    "import pandas as pd\n",
    "import cimcb as cb\n",
    "from sklearn.svm import SVC\n",
    "from sklearn.decomposition import PCA\n",
    "from sklearn.linear_model import LinearRegression\n",
    "from sklearn.ensemble import RandomForestClassifier\n",
    "from sklearn.model_selection import train_test_split\n",
    "\n",
    "print('All packages successfully loaded')"
   ]
  },
  {
   "cell_type": "code",
   "execution_count": 77,
   "metadata": {},
   "outputs": [
    {
     "name": "stdout",
     "output_type": "stream",
     "text": [
      "Loadings PeakFile: Peak\n",
      "Loadings DataFile: Data\n",
      "Data Table & Peak Table is suitable.\n",
      "TOTAL SAMPLES: 181 TOTAL PEAKS: 181\n",
      "Done!\n"
     ]
    }
   ],
   "source": [
    "home = 'notebooks/data/' \n",
    "file = 'ST000369.xlsx' \n",
    "\n",
    "DataTable,PeakTable = cb.utils.load_dataXL(home + file, DataSheet='Data', PeakSheet='Peak') "
   ]
  },
  {
   "cell_type": "code",
   "execution_count": 78,
   "metadata": {},
   "outputs": [],
   "source": [
    "# Extract PeakList\n",
    "PeakList = PeakTable['Name']  \n",
    "\n",
    "# Select Subset of Data\n",
    "DataTable2 = DataTable[(DataTable.Class == 1) | (DataTable.Class == 0)]\n",
    "\n",
    "# Create a Binary Y Vector \n",
    "Outcomes = DataTable2['Class']\n",
    "Y = Outcomes.values \n",
    "\n",
    "# Split Data into Train (2/3) and Test (1/3)\n",
    "DataTrain, DataTest, YTrain, YTest = train_test_split(DataTable2, Y, test_size=1/3, stratify=Y, random_state=87)\n",
    "\n",
    "# Extract Train Data \n",
    "XTrain = DataTrain[PeakList]                                    \n",
    "XTrainLog = np.log(XTrain)                                          \n",
    "XTrainScale, mu, sigma = cb.utils.scale(XTrainLog, method='auto', return_mu_sigma=True)              \n",
    "XTrainKnn = cb.utils.knnimpute(XTrainScale, k=3)    \n",
    "\n",
    "# Extract Test Data\n",
    "XTest = DataTest[PeakList]                                    \n",
    "XTestLog = np.log(XTest)                                          \n",
    "XTestScale = cb.utils.scale(XTestLog, method='auto', mu=mu, sigma=sigma)             \n",
    "XTestKnn = cb.utils.knnimpute(XTestScale, k=3)  "
   ]
  },
  {
   "cell_type": "code",
   "execution_count": 79,
   "metadata": {},
   "outputs": [],
   "source": [
    "# set n, the number of most important features, here empirically set to 5\n",
    "n = 5"
   ]
  },
  {
   "cell_type": "code",
   "execution_count": 80,
   "metadata": {},
   "outputs": [
    {
     "name": "stdout",
     "output_type": "stream",
     "text": [
      "The n most important features for the Random Forest Classifier are:\n",
      "\n",
      "Molecule                    |  feature importance\n",
      "-------------------------------------------\n",
      "hypoxanthine                |      0.0404\n",
      "xylose                      |      0.0303\n",
      "urea                        |      0.0303\n",
      "palmitoleic acid            |      0.0303\n",
      "maltose                     |      0.0303\n"
     ]
    }
   ],
   "source": [
    "# define the model\n",
    "model = RandomForestClassifier(n_estimators=100, max_features='sqrt', max_depth=3, \n",
    "                               criterion='gini', min_samples_split=2, \n",
    "                               min_samples_leaf=0.25, max_leaf_nodes=None, n_jobs=None)\n",
    "# fit the model\n",
    "model.fit(XTrainKnn, YTrain)\n",
    "# get importance\n",
    "importance = model.feature_importances_\n",
    "importances = list(enumerate(importance))\n",
    "importances.sort(key=lambda x:x[1], reverse = True)\n",
    "top_n = importances[:n]\n",
    "print(\"The n most important features for the Random Forest Classifier are:\")\n",
    "print()\n",
    "print(\"Molecule                    |  feature importance\")\n",
    "print(\"-------------------------------------------\")\n",
    "for counter, entry in enumerate(top_n):\n",
    "    mol = PeakTable[PeakTable[\"Idx\"] == (entry[0] + 1)][\"Label\"].iloc[0]\n",
    "    print(mol, \" \" * (26-len(mol)), \"|      {:.4f}\".format(entry[1]))"
   ]
  },
  {
   "cell_type": "code",
   "execution_count": 85,
   "metadata": {},
   "outputs": [
    {
     "name": "stdout",
     "output_type": "stream",
     "text": [
      "The n most important features for the linear SVM are:\n",
      "\n",
      "Molecule                    |  feature coefficients \n",
      "-------------------------------------------\n",
      "glutamic acid               |      0.000000074\n",
      "arachidonic acid            |      0.000000072\n",
      "maltose                     |      0.000000069\n",
      "715929 carbohydrate         |      0.000000067\n",
      "malic acid                  |      0.000000066\n"
     ]
    }
   ],
   "source": [
    "# define the model\n",
    "model = SVC(C=5e-9, kernel=\"linear\", degree=3, gamma=\"auto\", probability=True, tol=0.001, max_iter=-1)\n",
    "# fit the model\n",
    "model.fit(XTrainKnn, YTrain)\n",
    "# get importance\n",
    "importance = model.coef_[0]\n",
    "importances = list(enumerate(importance))\n",
    "importances.sort(key=lambda x:x[1], reverse = True)\n",
    "top_n = importances[:n]\n",
    "print(\"The n most important features for the linear SVM are:\")\n",
    "print()\n",
    "print(\"Molecule                    |  feature coefficients \")\n",
    "print(\"-------------------------------------------\")\n",
    "for counter, entry in enumerate(top_n):\n",
    "    mol = PeakTable[PeakTable[\"Idx\"] == (entry[0] + 1)][\"Label\"].iloc[0]\n",
    "    print(mol, \" \" * (26-len(mol)), \"|      {:.9f}\".format(entry[1]))"
   ]
  },
  {
   "cell_type": "code",
   "execution_count": 83,
   "metadata": {},
   "outputs": [
    {
     "name": "stdout",
     "output_type": "stream",
     "text": [
      "The n most important features for the PCA used in PCR are:\n",
      "\n",
      "Molecule      |  explained variance ratio \n",
      "-------------------------------------------\n",
      "xylose        |      0.1093\n",
      "xylitol       |      0.0853\n",
      "xanthine      |      0.0671\n",
      "valine        |      0.0610\n",
      "uridine       |      0.0560\n"
     ]
    }
   ],
   "source": [
    "# define the model\n",
    "model = PCA(n_components=9)\n",
    "regrmodel = LinearRegression()\n",
    "k = 9\n",
    "# fit the model\n",
    "model.fit(XTrainKnn)\n",
    "model.x_scores_ = model.transform(XTrainKnn)\n",
    "regrmodel.fit(model.x_scores_, YTrain)\n",
    "# get importance\n",
    "#importance = regrmodel.coef_\n",
    "importance = model.explained_variance_ratio_\n",
    "importances = list(enumerate(importance))\n",
    "importances.sort(key=lambda x:x[1], reverse = True)\n",
    "top_n = importances[:n]\n",
    "print(\"The n most important features for the PCA used in PCR are:\")\n",
    "print()\n",
    "print(\"Molecule      |  explained variance ratio \")\n",
    "print(\"-------------------------------------------\")\n",
    "for counter, entry in enumerate(top_n):\n",
    "    mol = PeakTable[PeakTable[\"Idx\"] == (entry[0] + 1)][\"Label\"].iloc[0]\n",
    "    print(mol, \" \" * (12-len(mol)), \"|      {:.4f}\".format(entry[1]))"
   ]
  }
 ],
 "metadata": {
  "kernelspec": {
   "display_name": "Python 3",
   "language": "python",
   "name": "python3"
  },
  "language_info": {
   "codemirror_mode": {
    "name": "ipython",
    "version": 3
   },
   "file_extension": ".py",
   "mimetype": "text/x-python",
   "name": "python",
   "nbconvert_exporter": "python",
   "pygments_lexer": "ipython3",
   "version": "3.7.3"
  }
 },
 "nbformat": 4,
 "nbformat_minor": 4
}
